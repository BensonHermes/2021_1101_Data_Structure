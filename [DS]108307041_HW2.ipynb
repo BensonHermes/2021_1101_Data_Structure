{
  "nbformat": 4,
  "nbformat_minor": 0,
  "metadata": {
    "colab": {
      "name": "[DS]108307041_HW2.ipynb",
      "provenance": [],
      "collapsed_sections": [
        "cdO9xRSqbIJg"
      ],
      "authorship_tag": "ABX9TyNkX5kA73Evbrksa6tDcLsZ",
      "include_colab_link": true
    },
    "kernelspec": {
      "name": "python3",
      "display_name": "Python 3"
    },
    "language_info": {
      "name": "python"
    }
  },
  "cells": [
    {
      "cell_type": "markdown",
      "metadata": {
        "id": "view-in-github",
        "colab_type": "text"
      },
      "source": [
        "<a href=\"https://colab.research.google.com/github/BensonHermes/2021_1101_Data_Structure/blob/main/%5BDS%5D108307041_HW2.ipynb\" target=\"_parent\"><img src=\"https://colab.research.google.com/assets/colab-badge.svg\" alt=\"Open In Colab\"/></a>"
      ]
    },
    {
      "cell_type": "code",
      "metadata": {
        "id": "4L2Qh8wGN0A7"
      },
      "source": [
        "import pandas as pd\n",
        "import matplotlib.pyplot as plt\n",
        "import timeit\n",
        "from random import randint  \n",
        "import numpy as np"
      ],
      "execution_count": null,
      "outputs": []
    },
    {
      "cell_type": "markdown",
      "metadata": {
        "id": "rx7SKTK3bha8"
      },
      "source": [
        "#1. Insertion: Skip List vs. Treap vs. Sorted Array"
      ]
    },
    {
      "cell_type": "markdown",
      "metadata": {
        "id": "ZJEyinZnPCls"
      },
      "source": [
        "##Skip List\n",
        "https://www.geeksforgeeks.org/skip-list-set-2-insertion/\n",
        "\n",
        "https://gist.github.com/sachinnair90/3bee2ef7dd3ff0dc5aec44ec40e2d127"
      ]
    },
    {
      "cell_type": "markdown",
      "metadata": {
        "id": "w4qHi4wKYv9j"
      },
      "source": [
        "###Prob=0.5"
      ]
    },
    {
      "cell_type": "code",
      "metadata": {
        "id": "c1N-29xoU2-V"
      },
      "source": [
        "from random import randint, seed\n",
        "\n",
        "class Node:  \n",
        "    def __init__(self, height = 0, elem = None):\n",
        "        self.elem = elem\n",
        "        self.next = [None]*height\n",
        "\n",
        "class SkipList:\n",
        "    def __init__(self):\n",
        "        self.head = Node()\n",
        "        self.len = 0\n",
        "        self.maxHeight = 0\n",
        "\n",
        "    def __len__(self):\n",
        "        return self.len\n",
        "\n",
        "    def find(self, elem, update = None):\n",
        "        if update == None:\n",
        "            update = self.updateList(elem)\n",
        "        if len(update) > 0:\n",
        "            item = update[0].next[0]\n",
        "            if item != None and item.elem == elem:\n",
        "                return item\n",
        "        return None\n",
        "    \n",
        "    def contains(self, elem, update = None):\n",
        "        return self.find(elem, update) != None\n",
        "\n",
        "    def randomHeight(self):\n",
        "        height = 1\n",
        "        while randint(1, 2) != 1:\n",
        "            height += 1\n",
        "        return height\n",
        "\n",
        "    def updateList(self, elem):\n",
        "        update = [None]*self.maxHeight\n",
        "        x = self.head\n",
        "        for i in reversed(range(self.maxHeight)):\n",
        "            while x.next[i] != None and x.next[i].elem < elem:\n",
        "                x = x.next[i]\n",
        "            update[i] = x\n",
        "        return update\n",
        "        \n",
        "    def insert(self, elem):\n",
        "\n",
        "        _node = Node(self.randomHeight(), elem)\n",
        "\n",
        "        self.maxHeight = max(self.maxHeight, len(_node.next))\n",
        "        while len(self.head.next) < len(_node.next):\n",
        "            self.head.next.append(None)\n",
        "\n",
        "        update = self.updateList(elem)            \n",
        "        if self.find(elem, update) == None:\n",
        "            for i in range(len(_node.next)):\n",
        "                _node.next[i] = update[i].next[i]\n",
        "                update[i].next[i] = _node\n",
        "            self.len += 1\n",
        "\n",
        "    def remove(self, elem):\n",
        "\n",
        "        update = self.updateList(elem)\n",
        "        x = self.find(elem, update)\n",
        "        if x != None:\n",
        "            for i in reversed(range(len(x.next))):\n",
        "                update[i].next[i] = x.next[i]\n",
        "                if self.head.next[i] == None:\n",
        "                    self.maxHeight -= 1\n",
        "            self.len -= 1            \n",
        "                \n",
        "    # def printList(self):\n",
        "    #     for i in range(len(self.head.next)-1, -1, -1):\n",
        "    #         x = self.head\n",
        "    #         while x.next[i] != None:\n",
        "    #             print x.next[i].elem,\n",
        "    #             x = x.next[i]\n",
        "    #         print ''\n",
        "    \n",
        "# Driver to test above code\n",
        "def skip_list_insertion(i):\n",
        "  lst = SkipList()\n",
        "  for k in range(2**i+1):\n",
        "    lst.insert(randint(1, 2**30+1))\n",
        "\n",
        "# def skip_list_insertion(i):\n",
        "#   lst = SkipList()\n",
        "#   for k in range(2**i+1):\n",
        "#     lst.insert(randint(1, 2**30+1))"
      ],
      "execution_count": null,
      "outputs": []
    },
    {
      "cell_type": "code",
      "metadata": {
        "colab": {
          "base_uri": "https://localhost:8080/"
        },
        "id": "ViQv7QmfX3NN",
        "outputId": "72e754a7-18f2-4915-97ee-5b24af3690a6"
      },
      "source": [
        "skip_list_result=[]\n",
        "for i in range(10,31):\n",
        "  result = timeit.timeit(stmt='skip_list_insertion(i)', setup='from __main__ import skip_list_insertion,i', number=1)\n",
        "  skip_list_result.append(result)\n",
        "  print(result)\n",
        "skip_list_result\n",
        "# df[\"Merge_Sort\"]=result_list"
      ],
      "execution_count": null,
      "outputs": [
        {
          "output_type": "stream",
          "name": "stdout",
          "text": [
            "0.020601822000116954\n",
            "0.030961246000060783\n",
            "0.061286244000257284\n",
            "0.14223762099982196\n",
            "0.29320965799979604\n",
            "0.6514170239997839\n",
            "1.4120556410002791\n",
            "2.897249030999774\n",
            "6.347698308999952\n",
            "13.87970051100001\n",
            "28.812510271000065\n",
            "61.32111035600019\n",
            "134.44714336900006\n",
            "293.356273849\n",
            "635.6528700719996\n",
            "1400.6854010029997\n"
          ]
        }
      ]
    },
    {
      "cell_type": "markdown",
      "metadata": {
        "id": "bx99mkOFbF9D"
      },
      "source": [
        "###Prob=0.1"
      ]
    },
    {
      "cell_type": "code",
      "metadata": {
        "id": "UZcOt49UYAVJ"
      },
      "source": [
        "from random import randint, seed\n",
        "\n",
        "class Node:  \n",
        "    def __init__(self, height = 0, elem = None):\n",
        "        self.elem = elem\n",
        "        self.next = [None]*height\n",
        "\n",
        "class SkipList:\n",
        "    def __init__(self):\n",
        "        self.head = Node()\n",
        "        self.len = 0\n",
        "        self.maxHeight = 0\n",
        "\n",
        "    def __len__(self):\n",
        "        return self.len\n",
        "\n",
        "    def find(self, elem, update = None):\n",
        "        if update == None:\n",
        "            update = self.updateList(elem)\n",
        "        if len(update) > 0:\n",
        "            item = update[0].next[0]\n",
        "            if item != None and item.elem == elem:\n",
        "                return item\n",
        "        return None\n",
        "    \n",
        "    def contains(self, elem, update = None):\n",
        "        return self.find(elem, update) != None\n",
        "\n",
        "    def randomHeight(self):\n",
        "        height = 1\n",
        "        #probability of head is 0.1 (1/10)\n",
        "        while randint(1, 10) == 1:\n",
        "            height += 1\n",
        "        return height\n",
        "\n",
        "    def updateList(self, elem):\n",
        "        update = [None]*self.maxHeight\n",
        "        x = self.head\n",
        "        for i in reversed(range(self.maxHeight)):\n",
        "            while x.next[i] != None and x.next[i].elem < elem:\n",
        "                x = x.next[i]\n",
        "            update[i] = x\n",
        "        return update\n",
        "        \n",
        "    def insert(self, elem):\n",
        "\n",
        "        _node = Node(self.randomHeight(), elem)\n",
        "\n",
        "        self.maxHeight = max(self.maxHeight, len(_node.next))\n",
        "        while len(self.head.next) < len(_node.next):\n",
        "            self.head.next.append(None)\n",
        "\n",
        "        update = self.updateList(elem)            \n",
        "        if self.find(elem, update) == None:\n",
        "            for i in range(len(_node.next)):\n",
        "                _node.next[i] = update[i].next[i]\n",
        "                update[i].next[i] = _node\n",
        "            self.len += 1\n",
        "\n",
        "    def remove(self, elem):\n",
        "\n",
        "        update = self.updateList(elem)\n",
        "        x = self.find(elem, update)\n",
        "        if x != None:\n",
        "            for i in reversed(range(len(x.next))):\n",
        "                update[i].next[i] = x.next[i]\n",
        "                if self.head.next[i] == None:\n",
        "                    self.maxHeight -= 1\n",
        "            self.len -= 1            \n",
        "                \n",
        "    # def printList(self):\n",
        "    #     for i in range(len(self.head.next)-1, -1, -1):\n",
        "    #         x = self.head\n",
        "    #         while x.next[i] != None:\n",
        "    #             print x.next[i].elem,\n",
        "    #             x = x.next[i]\n",
        "    #         print ''\n",
        "    \n",
        "# Driver to test above code\n",
        "def skip_list_insertion(i):\n",
        "  lst = SkipList()\n",
        "  for k in range(2**i+1):\n",
        "    lst.insert(randint(1, 2**30+1))"
      ],
      "execution_count": null,
      "outputs": []
    },
    {
      "cell_type": "code",
      "metadata": {
        "colab": {
          "base_uri": "https://localhost:8080/"
        },
        "id": "u51bE99zlDGt",
        "outputId": "f30004f4-94c3-41e7-d993-459dcacd3e70"
      },
      "source": [
        "skip_list_result=[]\n",
        "for i in range(10,31):\n",
        "  result = timeit.timeit(stmt='skip_list_insertion(i)', setup='from __main__ import skip_list_insertion,i', number=1)\n",
        "  skip_list_result.append(result)\n",
        "  print(skip_list_result)\n",
        "# df[\"Merge_Sort\"]=result_list"
      ],
      "execution_count": null,
      "outputs": [
        {
          "output_type": "stream",
          "name": "stdout",
          "text": [
            "[0.014409685999453359]\n",
            "[0.014409685999453359, 0.03287607200036291]\n",
            "[0.014409685999453359, 0.03287607200036291, 0.06338832900019042]\n",
            "[0.014409685999453359, 0.03287607200036291, 0.06338832900019042, 0.1459880250004062]\n",
            "[0.014409685999453359, 0.03287607200036291, 0.06338832900019042, 0.1459880250004062, 0.3368568490004691]\n",
            "[0.014409685999453359, 0.03287607200036291, 0.06338832900019042, 0.1459880250004062, 0.3368568490004691, 0.8015491030000703]\n",
            "[0.014409685999453359, 0.03287607200036291, 0.06338832900019042, 0.1459880250004062, 0.3368568490004691, 0.8015491030000703, 1.7612626959999034]\n",
            "[0.014409685999453359, 0.03287607200036291, 0.06338832900019042, 0.1459880250004062, 0.3368568490004691, 0.8015491030000703, 1.7612626959999034, 4.05046171199956]\n",
            "[0.014409685999453359, 0.03287607200036291, 0.06338832900019042, 0.1459880250004062, 0.3368568490004691, 0.8015491030000703, 1.7612626959999034, 4.05046171199956, 9.457249027999751]\n",
            "[0.014409685999453359, 0.03287607200036291, 0.06338832900019042, 0.1459880250004062, 0.3368568490004691, 0.8015491030000703, 1.7612626959999034, 4.05046171199956, 9.457249027999751, 20.429899739000575]\n",
            "[0.014409685999453359, 0.03287607200036291, 0.06338832900019042, 0.1459880250004062, 0.3368568490004691, 0.8015491030000703, 1.7612626959999034, 4.05046171199956, 9.457249027999751, 20.429899739000575, 43.35292916900016]\n",
            "[0.014409685999453359, 0.03287607200036291, 0.06338832900019042, 0.1459880250004062, 0.3368568490004691, 0.8015491030000703, 1.7612626959999034, 4.05046171199956, 9.457249027999751, 20.429899739000575, 43.35292916900016, 95.14877296000031]\n",
            "[0.014409685999453359, 0.03287607200036291, 0.06338832900019042, 0.1459880250004062, 0.3368568490004691, 0.8015491030000703, 1.7612626959999034, 4.05046171199956, 9.457249027999751, 20.429899739000575, 43.35292916900016, 95.14877296000031, 223.39083075500002]\n",
            "[0.014409685999453359, 0.03287607200036291, 0.06338832900019042, 0.1459880250004062, 0.3368568490004691, 0.8015491030000703, 1.7612626959999034, 4.05046171199956, 9.457249027999751, 20.429899739000575, 43.35292916900016, 95.14877296000031, 223.39083075500002, 486.0166188309995]\n",
            "[0.014409685999453359, 0.03287607200036291, 0.06338832900019042, 0.1459880250004062, 0.3368568490004691, 0.8015491030000703, 1.7612626959999034, 4.05046171199956, 9.457249027999751, 20.429899739000575, 43.35292916900016, 95.14877296000031, 223.39083075500002, 486.0166188309995, 1069.3555141460001]\n",
            "[0.014409685999453359, 0.03287607200036291, 0.06338832900019042, 0.1459880250004062, 0.3368568490004691, 0.8015491030000703, 1.7612626959999034, 4.05046171199956, 9.457249027999751, 20.429899739000575, 43.35292916900016, 95.14877296000031, 223.39083075500002, 486.0166188309995, 1069.3555141460001, 2490.5328761810006]\n"
          ]
        }
      ]
    },
    {
      "cell_type": "markdown",
      "metadata": {
        "id": "cdO9xRSqbIJg"
      },
      "source": [
        "###Prob=0.9"
      ]
    },
    {
      "cell_type": "code",
      "metadata": {
        "id": "CqxsAAsDbKjZ"
      },
      "source": [
        "from random import randint, seed\n",
        "\n",
        "class Node:  \n",
        "    def __init__(self, height = 0, elem = None):\n",
        "        self.elem = elem\n",
        "        self.next = [None]*height\n",
        "\n",
        "class SkipList:\n",
        "    def __init__(self):\n",
        "        self.head = Node()\n",
        "        self.len = 0\n",
        "        self.maxHeight = 0\n",
        "\n",
        "    def __len__(self):\n",
        "        return self.len\n",
        "\n",
        "    def find(self, elem, update = None):\n",
        "        if update == None:\n",
        "            update = self.updateList(elem)\n",
        "        if len(update) > 0:\n",
        "            item = update[0].next[0]\n",
        "            if item != None and item.elem == elem:\n",
        "                return item\n",
        "        return None\n",
        "    \n",
        "    def contains(self, elem, update = None):\n",
        "        return self.find(elem, update) != None\n",
        "\n",
        "    def randomHeight(self):\n",
        "        height = 1\n",
        "        #probability of head is 0.9 (9/10)\n",
        "        while randint(1, 10) in [1,2,3,4,5,6,7,8,9]:\n",
        "            height += 1\n",
        "        return height\n",
        "\n",
        "    def updateList(self, elem):\n",
        "        update = [None]*self.maxHeight\n",
        "        x = self.head\n",
        "        for i in reversed(range(self.maxHeight)):\n",
        "            while x.next[i] != None and x.next[i].elem < elem:\n",
        "                x = x.next[i]\n",
        "            update[i] = x\n",
        "        return update\n",
        "        \n",
        "    def insert(self, elem):\n",
        "\n",
        "        _node = Node(self.randomHeight(), elem)\n",
        "\n",
        "        self.maxHeight = max(self.maxHeight, len(_node.next))\n",
        "        while len(self.head.next) < len(_node.next):\n",
        "            self.head.next.append(None)\n",
        "\n",
        "        update = self.updateList(elem)            \n",
        "        if self.find(elem, update) == None:\n",
        "            for i in range(len(_node.next)):\n",
        "                _node.next[i] = update[i].next[i]\n",
        "                update[i].next[i] = _node\n",
        "            self.len += 1\n",
        "\n",
        "    def remove(self, elem):\n",
        "\n",
        "        update = self.updateList(elem)\n",
        "        x = self.find(elem, update)\n",
        "        if x != None:\n",
        "            for i in reversed(range(len(x.next))):\n",
        "                update[i].next[i] = x.next[i]\n",
        "                if self.head.next[i] == None:\n",
        "                    self.maxHeight -= 1\n",
        "            self.len -= 1            \n",
        "                \n",
        "    # def printList(self):\n",
        "    #     for i in range(len(self.head.next)-1, -1, -1):\n",
        "    #         x = self.head\n",
        "    #         while x.next[i] != None:\n",
        "    #             print x.next[i].elem,\n",
        "    #             x = x.next[i]\n",
        "    #         print ''\n",
        "    \n",
        "# Driver to test above code\n",
        "def skip_list_insertion(i):\n",
        "  lst = SkipList()\n",
        "  for k in range(2**i+1):\n",
        "    lst.insert(randint(1, 2**30+1))"
      ],
      "execution_count": null,
      "outputs": []
    },
    {
      "cell_type": "code",
      "metadata": {
        "colab": {
          "base_uri": "https://localhost:8080/",
          "height": 671
        },
        "id": "GNOslUSzxrDe",
        "outputId": "03cb720f-2b15-4346-a1c5-f5785ba780ef"
      },
      "source": [
        "skip_list_result=[]\n",
        "for i in range(10,31):\n",
        "  result = timeit.timeit(stmt='skip_list_insertion(i)', setup='from __main__ import skip_list_insertion,i', number=1)\n",
        "  skip_list_result.append(result)\n",
        "  print(skip_list_result)\n",
        "# df[\"Merge_Sort\"]=result_list"
      ],
      "execution_count": null,
      "outputs": [
        {
          "output_type": "stream",
          "name": "stdout",
          "text": [
            "[0.02433500000006461]\n",
            "[0.02433500000006461, 0.05727675799971621]\n",
            "[0.02433500000006461, 0.05727675799971621, 0.11098666899852105]\n",
            "[0.02433500000006461, 0.05727675799971621, 0.11098666899852105, 0.26888763200076937]\n",
            "[0.02433500000006461, 0.05727675799971621, 0.11098666899852105, 0.26888763200076937, 0.531104748000871]\n",
            "[0.02433500000006461, 0.05727675799971621, 0.11098666899852105, 0.26888763200076937, 0.531104748000871, 1.166771816999244]\n",
            "[0.02433500000006461, 0.05727675799971621, 0.11098666899852105, 0.26888763200076937, 0.531104748000871, 1.166771816999244, 2.3061071800002537]\n",
            "[0.02433500000006461, 0.05727675799971621, 0.11098666899852105, 0.26888763200076937, 0.531104748000871, 1.166771816999244, 2.3061071800002537, 4.917165085000306]\n",
            "[0.02433500000006461, 0.05727675799971621, 0.11098666899852105, 0.26888763200076937, 0.531104748000871, 1.166771816999244, 2.3061071800002537, 4.917165085000306, 10.834562020998419]\n",
            "[0.02433500000006461, 0.05727675799971621, 0.11098666899852105, 0.26888763200076937, 0.531104748000871, 1.166771816999244, 2.3061071800002537, 4.917165085000306, 10.834562020998419, 23.46144300299966]\n",
            "[0.02433500000006461, 0.05727675799971621, 0.11098666899852105, 0.26888763200076937, 0.531104748000871, 1.166771816999244, 2.3061071800002537, 4.917165085000306, 10.834562020998419, 23.46144300299966, 49.40654453000025]\n",
            "[0.02433500000006461, 0.05727675799971621, 0.11098666899852105, 0.26888763200076937, 0.531104748000871, 1.166771816999244, 2.3061071800002537, 4.917165085000306, 10.834562020998419, 23.46144300299966, 49.40654453000025, 109.91839049400005]\n",
            "[0.02433500000006461, 0.05727675799971621, 0.11098666899852105, 0.26888763200076937, 0.531104748000871, 1.166771816999244, 2.3061071800002537, 4.917165085000306, 10.834562020998419, 23.46144300299966, 49.40654453000025, 109.91839049400005, 222.56968670199967]\n",
            "[0.02433500000006461, 0.05727675799971621, 0.11098666899852105, 0.26888763200076937, 0.531104748000871, 1.166771816999244, 2.3061071800002537, 4.917165085000306, 10.834562020998419, 23.46144300299966, 49.40654453000025, 109.91839049400005, 222.56968670199967, 446.8899360590003]\n",
            "[0.02433500000006461, 0.05727675799971621, 0.11098666899852105, 0.26888763200076937, 0.531104748000871, 1.166771816999244, 2.3061071800002537, 4.917165085000306, 10.834562020998419, 23.46144300299966, 49.40654453000025, 109.91839049400005, 222.56968670199967, 446.8899360590003, 965.9890685089995]\n",
            "[0.02433500000006461, 0.05727675799971621, 0.11098666899852105, 0.26888763200076937, 0.531104748000871, 1.166771816999244, 2.3061071800002537, 4.917165085000306, 10.834562020998419, 23.46144300299966, 49.40654453000025, 109.91839049400005, 222.56968670199967, 446.8899360590003, 965.9890685089995, 2184.6165488940005]\n"
          ]
        },
        {
          "output_type": "error",
          "ename": "KeyboardInterrupt",
          "evalue": "ignored",
          "traceback": [
            "\u001b[0;31m---------------------------------------------------------------------------\u001b[0m",
            "\u001b[0;31mKeyboardInterrupt\u001b[0m                         Traceback (most recent call last)",
            "\u001b[0;32m<ipython-input-4-621ac3a143d7>\u001b[0m in \u001b[0;36m<module>\u001b[0;34m()\u001b[0m\n\u001b[1;32m      1\u001b[0m \u001b[0mskip_list_result\u001b[0m\u001b[0;34m=\u001b[0m\u001b[0;34m[\u001b[0m\u001b[0;34m]\u001b[0m\u001b[0;34m\u001b[0m\u001b[0;34m\u001b[0m\u001b[0m\n\u001b[1;32m      2\u001b[0m \u001b[0;32mfor\u001b[0m \u001b[0mi\u001b[0m \u001b[0;32min\u001b[0m \u001b[0mrange\u001b[0m\u001b[0;34m(\u001b[0m\u001b[0;36m10\u001b[0m\u001b[0;34m,\u001b[0m\u001b[0;36m31\u001b[0m\u001b[0;34m)\u001b[0m\u001b[0;34m:\u001b[0m\u001b[0;34m\u001b[0m\u001b[0;34m\u001b[0m\u001b[0m\n\u001b[0;32m----> 3\u001b[0;31m   \u001b[0mresult\u001b[0m \u001b[0;34m=\u001b[0m \u001b[0mtimeit\u001b[0m\u001b[0;34m.\u001b[0m\u001b[0mtimeit\u001b[0m\u001b[0;34m(\u001b[0m\u001b[0mstmt\u001b[0m\u001b[0;34m=\u001b[0m\u001b[0;34m'skip_list_insertion(i)'\u001b[0m\u001b[0;34m,\u001b[0m \u001b[0msetup\u001b[0m\u001b[0;34m=\u001b[0m\u001b[0;34m'from __main__ import skip_list_insertion,i'\u001b[0m\u001b[0;34m,\u001b[0m \u001b[0mnumber\u001b[0m\u001b[0;34m=\u001b[0m\u001b[0;36m1\u001b[0m\u001b[0;34m)\u001b[0m\u001b[0;34m\u001b[0m\u001b[0;34m\u001b[0m\u001b[0m\n\u001b[0m\u001b[1;32m      4\u001b[0m   \u001b[0mskip_list_result\u001b[0m\u001b[0;34m.\u001b[0m\u001b[0mappend\u001b[0m\u001b[0;34m(\u001b[0m\u001b[0mresult\u001b[0m\u001b[0;34m)\u001b[0m\u001b[0;34m\u001b[0m\u001b[0;34m\u001b[0m\u001b[0m\n\u001b[1;32m      5\u001b[0m   \u001b[0mprint\u001b[0m\u001b[0;34m(\u001b[0m\u001b[0mskip_list_result\u001b[0m\u001b[0;34m)\u001b[0m\u001b[0;34m\u001b[0m\u001b[0;34m\u001b[0m\u001b[0m\n",
            "\u001b[0;32m/usr/lib/python3.7/timeit.py\u001b[0m in \u001b[0;36mtimeit\u001b[0;34m(stmt, setup, timer, number, globals)\u001b[0m\n\u001b[1;32m    231\u001b[0m            number=default_number, globals=None):\n\u001b[1;32m    232\u001b[0m     \u001b[0;34m\"\"\"Convenience function to create Timer object and call timeit method.\"\"\"\u001b[0m\u001b[0;34m\u001b[0m\u001b[0;34m\u001b[0m\u001b[0m\n\u001b[0;32m--> 233\u001b[0;31m     \u001b[0;32mreturn\u001b[0m \u001b[0mTimer\u001b[0m\u001b[0;34m(\u001b[0m\u001b[0mstmt\u001b[0m\u001b[0;34m,\u001b[0m \u001b[0msetup\u001b[0m\u001b[0;34m,\u001b[0m \u001b[0mtimer\u001b[0m\u001b[0;34m,\u001b[0m \u001b[0mglobals\u001b[0m\u001b[0;34m)\u001b[0m\u001b[0;34m.\u001b[0m\u001b[0mtimeit\u001b[0m\u001b[0;34m(\u001b[0m\u001b[0mnumber\u001b[0m\u001b[0;34m)\u001b[0m\u001b[0;34m\u001b[0m\u001b[0;34m\u001b[0m\u001b[0m\n\u001b[0m\u001b[1;32m    234\u001b[0m \u001b[0;34m\u001b[0m\u001b[0m\n\u001b[1;32m    235\u001b[0m def repeat(stmt=\"pass\", setup=\"pass\", timer=default_timer,\n",
            "\u001b[0;32m/usr/lib/python3.7/timeit.py\u001b[0m in \u001b[0;36mtimeit\u001b[0;34m(self, number)\u001b[0m\n\u001b[1;32m    175\u001b[0m         \u001b[0mgc\u001b[0m\u001b[0;34m.\u001b[0m\u001b[0mdisable\u001b[0m\u001b[0;34m(\u001b[0m\u001b[0;34m)\u001b[0m\u001b[0;34m\u001b[0m\u001b[0;34m\u001b[0m\u001b[0m\n\u001b[1;32m    176\u001b[0m         \u001b[0;32mtry\u001b[0m\u001b[0;34m:\u001b[0m\u001b[0;34m\u001b[0m\u001b[0;34m\u001b[0m\u001b[0m\n\u001b[0;32m--> 177\u001b[0;31m             \u001b[0mtiming\u001b[0m \u001b[0;34m=\u001b[0m \u001b[0mself\u001b[0m\u001b[0;34m.\u001b[0m\u001b[0minner\u001b[0m\u001b[0;34m(\u001b[0m\u001b[0mit\u001b[0m\u001b[0;34m,\u001b[0m \u001b[0mself\u001b[0m\u001b[0;34m.\u001b[0m\u001b[0mtimer\u001b[0m\u001b[0;34m)\u001b[0m\u001b[0;34m\u001b[0m\u001b[0;34m\u001b[0m\u001b[0m\n\u001b[0m\u001b[1;32m    178\u001b[0m         \u001b[0;32mfinally\u001b[0m\u001b[0;34m:\u001b[0m\u001b[0;34m\u001b[0m\u001b[0;34m\u001b[0m\u001b[0m\n\u001b[1;32m    179\u001b[0m             \u001b[0;32mif\u001b[0m \u001b[0mgcold\u001b[0m\u001b[0;34m:\u001b[0m\u001b[0;34m\u001b[0m\u001b[0;34m\u001b[0m\u001b[0m\n",
            "\u001b[0;32m/usr/lib/python3.7/timeit.py\u001b[0m in \u001b[0;36minner\u001b[0;34m(_it, _timer)\u001b[0m\n",
            "\u001b[0;32m<ipython-input-3-7872cc70c075>\u001b[0m in \u001b[0;36mskip_list_insertion\u001b[0;34m(i)\u001b[0m\n\u001b[1;32m     81\u001b[0m   \u001b[0mlst\u001b[0m \u001b[0;34m=\u001b[0m \u001b[0mSkipList\u001b[0m\u001b[0;34m(\u001b[0m\u001b[0;34m)\u001b[0m\u001b[0;34m\u001b[0m\u001b[0;34m\u001b[0m\u001b[0m\n\u001b[1;32m     82\u001b[0m   \u001b[0;32mfor\u001b[0m \u001b[0mk\u001b[0m \u001b[0;32min\u001b[0m \u001b[0mrange\u001b[0m\u001b[0;34m(\u001b[0m\u001b[0;36m2\u001b[0m\u001b[0;34m**\u001b[0m\u001b[0mi\u001b[0m\u001b[0;34m+\u001b[0m\u001b[0;36m1\u001b[0m\u001b[0;34m)\u001b[0m\u001b[0;34m:\u001b[0m\u001b[0;34m\u001b[0m\u001b[0;34m\u001b[0m\u001b[0m\n\u001b[0;32m---> 83\u001b[0;31m     \u001b[0mlst\u001b[0m\u001b[0;34m.\u001b[0m\u001b[0minsert\u001b[0m\u001b[0;34m(\u001b[0m\u001b[0mrandint\u001b[0m\u001b[0;34m(\u001b[0m\u001b[0;36m1\u001b[0m\u001b[0;34m,\u001b[0m \u001b[0;36m2\u001b[0m\u001b[0;34m**\u001b[0m\u001b[0;36m30\u001b[0m\u001b[0;34m+\u001b[0m\u001b[0;36m1\u001b[0m\u001b[0;34m)\u001b[0m\u001b[0;34m)\u001b[0m\u001b[0;34m\u001b[0m\u001b[0;34m\u001b[0m\u001b[0m\n\u001b[0m",
            "\u001b[0;32m<ipython-input-3-7872cc70c075>\u001b[0m in \u001b[0;36minsert\u001b[0;34m(self, elem)\u001b[0m\n\u001b[1;32m     51\u001b[0m             \u001b[0mself\u001b[0m\u001b[0;34m.\u001b[0m\u001b[0mhead\u001b[0m\u001b[0;34m.\u001b[0m\u001b[0mnext\u001b[0m\u001b[0;34m.\u001b[0m\u001b[0mappend\u001b[0m\u001b[0;34m(\u001b[0m\u001b[0;32mNone\u001b[0m\u001b[0;34m)\u001b[0m\u001b[0;34m\u001b[0m\u001b[0;34m\u001b[0m\u001b[0m\n\u001b[1;32m     52\u001b[0m \u001b[0;34m\u001b[0m\u001b[0m\n\u001b[0;32m---> 53\u001b[0;31m         \u001b[0mupdate\u001b[0m \u001b[0;34m=\u001b[0m \u001b[0mself\u001b[0m\u001b[0;34m.\u001b[0m\u001b[0mupdateList\u001b[0m\u001b[0;34m(\u001b[0m\u001b[0melem\u001b[0m\u001b[0;34m)\u001b[0m\u001b[0;34m\u001b[0m\u001b[0;34m\u001b[0m\u001b[0m\n\u001b[0m\u001b[1;32m     54\u001b[0m         \u001b[0;32mif\u001b[0m \u001b[0mself\u001b[0m\u001b[0;34m.\u001b[0m\u001b[0mfind\u001b[0m\u001b[0;34m(\u001b[0m\u001b[0melem\u001b[0m\u001b[0;34m,\u001b[0m \u001b[0mupdate\u001b[0m\u001b[0;34m)\u001b[0m \u001b[0;34m==\u001b[0m \u001b[0;32mNone\u001b[0m\u001b[0;34m:\u001b[0m\u001b[0;34m\u001b[0m\u001b[0;34m\u001b[0m\u001b[0m\n\u001b[1;32m     55\u001b[0m             \u001b[0;32mfor\u001b[0m \u001b[0mi\u001b[0m \u001b[0;32min\u001b[0m \u001b[0mrange\u001b[0m\u001b[0;34m(\u001b[0m\u001b[0mlen\u001b[0m\u001b[0;34m(\u001b[0m\u001b[0m_node\u001b[0m\u001b[0;34m.\u001b[0m\u001b[0mnext\u001b[0m\u001b[0;34m)\u001b[0m\u001b[0;34m)\u001b[0m\u001b[0;34m:\u001b[0m\u001b[0;34m\u001b[0m\u001b[0;34m\u001b[0m\u001b[0m\n",
            "\u001b[0;32m<ipython-input-3-7872cc70c075>\u001b[0m in \u001b[0;36mupdateList\u001b[0;34m(self, elem)\u001b[0m\n\u001b[1;32m     38\u001b[0m         \u001b[0mx\u001b[0m \u001b[0;34m=\u001b[0m \u001b[0mself\u001b[0m\u001b[0;34m.\u001b[0m\u001b[0mhead\u001b[0m\u001b[0;34m\u001b[0m\u001b[0;34m\u001b[0m\u001b[0m\n\u001b[1;32m     39\u001b[0m         \u001b[0;32mfor\u001b[0m \u001b[0mi\u001b[0m \u001b[0;32min\u001b[0m \u001b[0mreversed\u001b[0m\u001b[0;34m(\u001b[0m\u001b[0mrange\u001b[0m\u001b[0;34m(\u001b[0m\u001b[0mself\u001b[0m\u001b[0;34m.\u001b[0m\u001b[0mmaxHeight\u001b[0m\u001b[0;34m)\u001b[0m\u001b[0;34m)\u001b[0m\u001b[0;34m:\u001b[0m\u001b[0;34m\u001b[0m\u001b[0;34m\u001b[0m\u001b[0m\n\u001b[0;32m---> 40\u001b[0;31m             \u001b[0;32mwhile\u001b[0m \u001b[0mx\u001b[0m\u001b[0;34m.\u001b[0m\u001b[0mnext\u001b[0m\u001b[0;34m[\u001b[0m\u001b[0mi\u001b[0m\u001b[0;34m]\u001b[0m \u001b[0;34m!=\u001b[0m \u001b[0;32mNone\u001b[0m \u001b[0;32mand\u001b[0m \u001b[0mx\u001b[0m\u001b[0;34m.\u001b[0m\u001b[0mnext\u001b[0m\u001b[0;34m[\u001b[0m\u001b[0mi\u001b[0m\u001b[0;34m]\u001b[0m\u001b[0;34m.\u001b[0m\u001b[0melem\u001b[0m \u001b[0;34m<\u001b[0m \u001b[0melem\u001b[0m\u001b[0;34m:\u001b[0m\u001b[0;34m\u001b[0m\u001b[0;34m\u001b[0m\u001b[0m\n\u001b[0m\u001b[1;32m     41\u001b[0m                 \u001b[0mx\u001b[0m \u001b[0;34m=\u001b[0m \u001b[0mx\u001b[0m\u001b[0;34m.\u001b[0m\u001b[0mnext\u001b[0m\u001b[0;34m[\u001b[0m\u001b[0mi\u001b[0m\u001b[0;34m]\u001b[0m\u001b[0;34m\u001b[0m\u001b[0;34m\u001b[0m\u001b[0m\n\u001b[1;32m     42\u001b[0m             \u001b[0mupdate\u001b[0m\u001b[0;34m[\u001b[0m\u001b[0mi\u001b[0m\u001b[0;34m]\u001b[0m \u001b[0;34m=\u001b[0m \u001b[0mx\u001b[0m\u001b[0;34m\u001b[0m\u001b[0;34m\u001b[0m\u001b[0m\n",
            "\u001b[0;31mKeyboardInterrupt\u001b[0m: "
          ]
        }
      ]
    },
    {
      "cell_type": "markdown",
      "metadata": {
        "id": "EGZVzCukbXet"
      },
      "source": [
        "##Treap\n",
        "https://www.cnblogs.com/wuditju/p/6004399.html\n",
        "\n",
        "結果見下方search程式碼與實驗結果，忽略此section"
      ]
    },
    {
      "cell_type": "code",
      "metadata": {
        "id": "CE39R9OQbYwI"
      },
      "source": [
        "# from random import randrange\n",
        " \n",
        " \n",
        "# # A Treap Node\n",
        "# class TreapNode:\n",
        "#     # constructor\n",
        "#     def __init__(self, data, priority=100, left=None, right=None):\n",
        "#         self.data = data\n",
        "#         self.priority = randrange(priority)\n",
        "#         self.left = left\n",
        "#         self.right = right\n",
        " \n",
        " \n",
        "# ''' Function to left-rotate a given treap\n",
        " \n",
        "#       r                       R\n",
        "#      / \\     Left Rotate     / \\\n",
        "#     L   R       ———>        r   Y\n",
        "#        / \\                     / \\\n",
        "#       X   Y                   L   X\n",
        "# '''\n",
        " \n",
        " \n",
        "# def rotateLeft(root):\n",
        " \n",
        "#     R = root.right\n",
        "#     X = root.right.left\n",
        " \n",
        "#     # rotate\n",
        "#     R.left = root\n",
        "#     root.right = X\n",
        " \n",
        "#     # set a new root\n",
        "#     return R\n",
        " \n",
        " \n",
        "# ''' Function to right-rotate a given treap\n",
        " \n",
        "#         r                        L\n",
        "#        / \\     Right Rotate     / \\\n",
        "#       L   R       ———>         X   r\n",
        "#      / \\                          / \\\n",
        "#     X   Y                        Y   R\n",
        "# '''\n",
        " \n",
        " \n",
        "# def rotateRight(root):\n",
        " \n",
        "#     L = root.left\n",
        "#     Y = root.left.right\n",
        " \n",
        "#     # rotate\n",
        "#     L.right = root\n",
        "#     root.left = Y\n",
        " \n",
        "#     # set a new root\n",
        "#     return L\n",
        " \n",
        " \n",
        "# # Recursive function to insert a given key with a priority into treap\n",
        "# def insertNode(root, data):\n",
        " \n",
        "#     # base case\n",
        "#     if root is None:\n",
        "#         return TreapNode(data)\n",
        " \n",
        "#     # if the given data is less than the root node, insert in the left subtree;\n",
        "#     # otherwise, insert in the right subtree\n",
        "#     if data < root.data:\n",
        "#         root.left = insertNode(root.left, data)\n",
        " \n",
        "#         # rotate right if heap property is violated\n",
        "#         if root.left and root.left.priority > root.priority:\n",
        "#             root = rotateRight(root)\n",
        "#     else:\n",
        "#         root.right = insertNode(root.right, data)\n",
        " \n",
        "#         # rotate left if heap property is violated\n",
        "#         if root.right and root.right.priority > root.priority:\n",
        "#             root = rotateLeft(root)\n",
        " \n",
        "#     return root\n",
        " \n",
        " \n",
        "# # Recursive function to search for a key in a given treap\n",
        "# def searchNode(root, key):\n",
        " \n",
        "#     # if the key is not present in the tree\n",
        "#     if root is None:\n",
        "#         return False\n",
        " \n",
        "#     # if the key is found\n",
        "#     if root.data == key:\n",
        "#         return True\n",
        " \n",
        "#     # if the key is less than the root node, search in the left subtree\n",
        "#     if key < root.data:\n",
        "#         return searchNode(root.left, key)\n",
        " \n",
        "#     # otherwise, search in the right subtree\n",
        "#     return searchNode(root.right, key)\n",
        " \n",
        " \n",
        "# # Recursive function to delete a key from a given treap\n",
        "# def deleteNode(root, key):\n",
        " \n",
        "#     # base case: the key is not found in the tree\n",
        "#     if root is None:\n",
        "#         return None\n",
        " \n",
        "#     # if the key is less than the root node, recur for the left subtree\n",
        "#     if key < root.data:\n",
        "#         root.left = deleteNode(root.left, key)\n",
        " \n",
        "#     # if the key is more than the root node, recur for the right subtree\n",
        "#     elif key > root.data:\n",
        "#         root.right = deleteNode(root.right, key)\n",
        " \n",
        "#     # if the key is found\n",
        "#     else:\n",
        " \n",
        "#         # Case 1: node to be deleted has no children (it is a leaf node)\n",
        "#         if root.left is None and root.right is None:\n",
        "#             # deallocate the memory and update root to None\n",
        "#             root = None\n",
        " \n",
        "#         # Case 2: node to be deleted has two children\n",
        "#         elif root.left and root.right:\n",
        "#             # if the left child has less priority than the right child\n",
        "#             if root.left.priority < root.right.priority:\n",
        "#                 # call `rotateLeft()` on the root\n",
        "#                 root = rotateLeft(root)\n",
        " \n",
        "#                 # recursively delete the left child\n",
        "#                 root.left = deleteNode(root.left, key)\n",
        "#             else:\n",
        "#                 # call `rotateRight()` on the root\n",
        "#                 root = rotateRight(root)\n",
        " \n",
        "#                 # recursively delete the right child\n",
        "#                 root.right = deleteNode(root.right, key)\n",
        " \n",
        "#         # Case 3: node to be deleted has only one child\n",
        "#         else:\n",
        "#             # choose a child node\n",
        "#             child = root.left if (root.left) else root.right\n",
        "#             root = child\n",
        " \n",
        "#     return root\n",
        " \n",
        " \n",
        "# # Utility function to print two-dimensional view of a treap using\n",
        "# # reverse inorder traversal\n",
        "# def printTreap(root, space):\n",
        " \n",
        "#     height = 10\n",
        " \n",
        "#     # Base case\n",
        "#     if root is None:\n",
        "#         return\n",
        " \n",
        "#     # increase distance between levels\n",
        "#     space += height\n",
        " \n",
        "#     # print the right child first\n",
        "#     printTreap(root.right, space)\n",
        " \n",
        "#     # print the current node after padding with spaces\n",
        "#     for i in range(height, space):\n",
        "#         print(' ', end='')\n",
        " \n",
        "#     print((root.data, root.priority))\n",
        " \n",
        "#     # print the left child\n",
        "#     printTreap(root.left, space)\n",
        " \n",
        " \n",
        "# # if __name__ == '__main__':\n",
        " \n",
        "# #     # Treap keys\n",
        "# #     keys = [5, 2, 1, 4, 9, 8, 10]\n",
        " \n",
        "# #     # construct a treap\n",
        "# #     root = None\n",
        "# #     for key in keys:\n",
        "# #         root = insertNode(root, key)\n",
        " \n",
        "# #     print(\"Constructed :\\n\\n\")\n",
        "# #     printTreap(root, 0)\n",
        " \n",
        "# #     print(\"\\nDeleting node 1:\\n\\n\")\n",
        "# #     root = deleteNode(root, 1)\n",
        "# #     printTreap(root, 0)\n",
        " \n",
        "# #     print(\"\\nDeleting node 5:\\n\\n\")\n",
        "# #     root = deleteNode(root, 5)\n",
        "# #     printTreap(root, 0)\n",
        " \n",
        "# #     print(\"\\nDeleting node 9:\\n\\n\")\n",
        "# #     root = deleteNode(root, 9)\n",
        " \n",
        "# #     printTreap(root, 0)\n",
        "\n",
        "# # Driver to test above code\n",
        "# def treap_insertion(i):\n",
        "#   # treap = TreapNode(None)\n",
        "#   root=None\n",
        "#   for k in range(2**i):\n",
        "#     root = insertNode(root, randint(1, 2**30))"
      ],
      "execution_count": null,
      "outputs": []
    },
    {
      "cell_type": "code",
      "metadata": {
        "colab": {
          "base_uri": "https://localhost:8080/",
          "height": 489
        },
        "id": "5cAVEpIqQygQ",
        "outputId": "696d88e5-e054-4aa8-8103-9cf4629e99fd"
      },
      "source": [
        "# for i in range(10,31):\n",
        "#   result=0\n",
        "#   root = treap_insertion(i)\n",
        "#   print(root)"
      ],
      "execution_count": null,
      "outputs": [
        {
          "output_type": "stream",
          "name": "stdout",
          "text": [
            "None\n",
            "None\n",
            "None\n",
            "None\n",
            "None\n",
            "None\n",
            "None\n"
          ]
        },
        {
          "output_type": "error",
          "ename": "KeyboardInterrupt",
          "evalue": "ignored",
          "traceback": [
            "\u001b[0;31m---------------------------------------------------------------------------\u001b[0m",
            "\u001b[0;31mKeyboardInterrupt\u001b[0m                         Traceback (most recent call last)",
            "\u001b[0;32m<ipython-input-41-bd361516b736>\u001b[0m in \u001b[0;36m<module>\u001b[0;34m()\u001b[0m\n\u001b[1;32m      1\u001b[0m \u001b[0;32mfor\u001b[0m \u001b[0mi\u001b[0m \u001b[0;32min\u001b[0m \u001b[0mrange\u001b[0m\u001b[0;34m(\u001b[0m\u001b[0;36m10\u001b[0m\u001b[0;34m,\u001b[0m\u001b[0;36m31\u001b[0m\u001b[0;34m)\u001b[0m\u001b[0;34m:\u001b[0m\u001b[0;34m\u001b[0m\u001b[0;34m\u001b[0m\u001b[0m\n\u001b[1;32m      2\u001b[0m   \u001b[0mresult\u001b[0m\u001b[0;34m=\u001b[0m\u001b[0;36m0\u001b[0m\u001b[0;34m\u001b[0m\u001b[0;34m\u001b[0m\u001b[0m\n\u001b[0;32m----> 3\u001b[0;31m   \u001b[0mroot\u001b[0m \u001b[0;34m=\u001b[0m \u001b[0mtreap_insertion\u001b[0m\u001b[0;34m(\u001b[0m\u001b[0mi\u001b[0m\u001b[0;34m)\u001b[0m\u001b[0;34m\u001b[0m\u001b[0;34m\u001b[0m\u001b[0m\n\u001b[0m\u001b[1;32m      4\u001b[0m   \u001b[0mprint\u001b[0m\u001b[0;34m(\u001b[0m\u001b[0mroot\u001b[0m\u001b[0;34m)\u001b[0m\u001b[0;34m\u001b[0m\u001b[0;34m\u001b[0m\u001b[0m\n",
            "\u001b[0;32m<ipython-input-40-3a7be8f9fd41>\u001b[0m in \u001b[0;36mtreap_insertion\u001b[0;34m(i)\u001b[0m\n\u001b[1;32m    207\u001b[0m   \u001b[0mroot\u001b[0m\u001b[0;34m=\u001b[0m\u001b[0;32mNone\u001b[0m\u001b[0;34m\u001b[0m\u001b[0;34m\u001b[0m\u001b[0m\n\u001b[1;32m    208\u001b[0m   \u001b[0;32mfor\u001b[0m \u001b[0mk\u001b[0m \u001b[0;32min\u001b[0m \u001b[0mrange\u001b[0m\u001b[0;34m(\u001b[0m\u001b[0;36m2\u001b[0m\u001b[0;34m**\u001b[0m\u001b[0mi\u001b[0m\u001b[0;34m)\u001b[0m\u001b[0;34m:\u001b[0m\u001b[0;34m\u001b[0m\u001b[0;34m\u001b[0m\u001b[0m\n\u001b[0;32m--> 209\u001b[0;31m     \u001b[0mroot\u001b[0m \u001b[0;34m=\u001b[0m \u001b[0minsertNode\u001b[0m\u001b[0;34m(\u001b[0m\u001b[0mroot\u001b[0m\u001b[0;34m,\u001b[0m \u001b[0mrandint\u001b[0m\u001b[0;34m(\u001b[0m\u001b[0;36m1\u001b[0m\u001b[0;34m,\u001b[0m \u001b[0;36m2\u001b[0m\u001b[0;34m**\u001b[0m\u001b[0;36m30\u001b[0m\u001b[0;34m)\u001b[0m\u001b[0;34m)\u001b[0m\u001b[0;34m\u001b[0m\u001b[0;34m\u001b[0m\u001b[0m\n\u001b[0m",
            "\u001b[0;32m/usr/lib/python3.7/random.py\u001b[0m in \u001b[0;36mrandint\u001b[0;34m(self, a, b)\u001b[0m\n\u001b[1;32m    220\u001b[0m         \"\"\"\n\u001b[1;32m    221\u001b[0m \u001b[0;34m\u001b[0m\u001b[0m\n\u001b[0;32m--> 222\u001b[0;31m         \u001b[0;32mreturn\u001b[0m \u001b[0mself\u001b[0m\u001b[0;34m.\u001b[0m\u001b[0mrandrange\u001b[0m\u001b[0;34m(\u001b[0m\u001b[0ma\u001b[0m\u001b[0;34m,\u001b[0m \u001b[0mb\u001b[0m\u001b[0;34m+\u001b[0m\u001b[0;36m1\u001b[0m\u001b[0;34m)\u001b[0m\u001b[0;34m\u001b[0m\u001b[0;34m\u001b[0m\u001b[0m\n\u001b[0m\u001b[1;32m    223\u001b[0m \u001b[0;34m\u001b[0m\u001b[0m\n\u001b[1;32m    224\u001b[0m     def _randbelow(self, n, int=int, maxsize=1<<BPF, type=type,\n",
            "\u001b[0;32m/usr/lib/python3.7/random.py\u001b[0m in \u001b[0;36mrandrange\u001b[0;34m(self, start, stop, step, _int)\u001b[0m\n\u001b[1;32m    182\u001b[0m         \u001b[0;31m# This code is a bit messy to make it fast for the\u001b[0m\u001b[0;34m\u001b[0m\u001b[0;34m\u001b[0m\u001b[0;34m\u001b[0m\u001b[0m\n\u001b[1;32m    183\u001b[0m         \u001b[0;31m# common case while still doing adequate error checking.\u001b[0m\u001b[0;34m\u001b[0m\u001b[0;34m\u001b[0m\u001b[0;34m\u001b[0m\u001b[0m\n\u001b[0;32m--> 184\u001b[0;31m         \u001b[0mistart\u001b[0m \u001b[0;34m=\u001b[0m \u001b[0m_int\u001b[0m\u001b[0;34m(\u001b[0m\u001b[0mstart\u001b[0m\u001b[0;34m)\u001b[0m\u001b[0;34m\u001b[0m\u001b[0;34m\u001b[0m\u001b[0m\n\u001b[0m\u001b[1;32m    185\u001b[0m         \u001b[0;32mif\u001b[0m \u001b[0mistart\u001b[0m \u001b[0;34m!=\u001b[0m \u001b[0mstart\u001b[0m\u001b[0;34m:\u001b[0m\u001b[0;34m\u001b[0m\u001b[0;34m\u001b[0m\u001b[0m\n\u001b[1;32m    186\u001b[0m             \u001b[0;32mraise\u001b[0m \u001b[0mValueError\u001b[0m\u001b[0;34m(\u001b[0m\u001b[0;34m\"non-integer arg 1 for randrange()\"\u001b[0m\u001b[0;34m)\u001b[0m\u001b[0;34m\u001b[0m\u001b[0;34m\u001b[0m\u001b[0m\n",
            "\u001b[0;31mKeyboardInterrupt\u001b[0m: "
          ]
        }
      ]
    },
    {
      "cell_type": "code",
      "metadata": {
        "id": "BpkLPb5KlOVu",
        "colab": {
          "base_uri": "https://localhost:8080/"
        },
        "outputId": "3aac6be2-e1e7-46bf-d3c2-81de09560197"
      },
      "source": [
        "# treap_result=[]\n",
        "# for i in range(10,31):\n",
        "#   result = timeit.timeit(stmt='treap_insertion(i)', setup='from __main__ import treap_insertion,i', number=1)\n",
        "#   treap_result.append(result)\n",
        "#   print(treap_result)\n",
        "# # df[\"Merge_Sort\"]=result_list"
      ],
      "execution_count": null,
      "outputs": [
        {
          "output_type": "stream",
          "name": "stdout",
          "text": [
            "[0.009746294999786187]\n",
            "[0.009746294999786187, 0.02028780100044969]\n",
            "[0.009746294999786187, 0.02028780100044969, 0.04357354000057967]\n",
            "[0.009746294999786187, 0.02028780100044969, 0.04357354000057967, 0.09280602700164309]\n",
            "[0.009746294999786187, 0.02028780100044969, 0.04357354000057967, 0.09280602700164309, 0.21135465500083228]\n",
            "[0.009746294999786187, 0.02028780100044969, 0.04357354000057967, 0.09280602700164309, 0.21135465500083228, 0.4683779010010767]\n",
            "[0.009746294999786187, 0.02028780100044969, 0.04357354000057967, 0.09280602700164309, 0.21135465500083228, 0.4683779010010767, 1.0358267389983666]\n",
            "[0.009746294999786187, 0.02028780100044969, 0.04357354000057967, 0.09280602700164309, 0.21135465500083228, 0.4683779010010767, 1.0358267389983666, 2.414331295000011]\n",
            "[0.009746294999786187, 0.02028780100044969, 0.04357354000057967, 0.09280602700164309, 0.21135465500083228, 0.4683779010010767, 1.0358267389983666, 2.414331295000011, 5.4828864310002245]\n",
            "[0.009746294999786187, 0.02028780100044969, 0.04357354000057967, 0.09280602700164309, 0.21135465500083228, 0.4683779010010767, 1.0358267389983666, 2.414331295000011, 5.4828864310002245, 11.77415107699926]\n",
            "[0.009746294999786187, 0.02028780100044969, 0.04357354000057967, 0.09280602700164309, 0.21135465500083228, 0.4683779010010767, 1.0358267389983666, 2.414331295000011, 5.4828864310002245, 11.77415107699926, 27.64196148100018]\n",
            "[0.009746294999786187, 0.02028780100044969, 0.04357354000057967, 0.09280602700164309, 0.21135465500083228, 0.4683779010010767, 1.0358267389983666, 2.414331295000011, 5.4828864310002245, 11.77415107699926, 27.64196148100018, 69.11787903199911]\n",
            "[0.009746294999786187, 0.02028780100044969, 0.04357354000057967, 0.09280602700164309, 0.21135465500083228, 0.4683779010010767, 1.0358267389983666, 2.414331295000011, 5.4828864310002245, 11.77415107699926, 27.64196148100018, 69.11787903199911, 154.99593234500026]\n",
            "[0.009746294999786187, 0.02028780100044969, 0.04357354000057967, 0.09280602700164309, 0.21135465500083228, 0.4683779010010767, 1.0358267389983666, 2.414331295000011, 5.4828864310002245, 11.77415107699926, 27.64196148100018, 69.11787903199911, 154.99593234500026, 324.07720350899945]\n",
            "[0.009746294999786187, 0.02028780100044969, 0.04357354000057967, 0.09280602700164309, 0.21135465500083228, 0.4683779010010767, 1.0358267389983666, 2.414331295000011, 5.4828864310002245, 11.77415107699926, 27.64196148100018, 69.11787903199911, 154.99593234500026, 324.07720350899945, 592.049107118999]\n",
            "[0.009746294999786187, 0.02028780100044969, 0.04357354000057967, 0.09280602700164309, 0.21135465500083228, 0.4683779010010767, 1.0358267389983666, 2.414331295000011, 5.4828864310002245, 11.77415107699926, 27.64196148100018, 69.11787903199911, 154.99593234500026, 324.07720350899945, 592.049107118999, 1156.1368744330011]\n"
          ]
        }
      ]
    },
    {
      "cell_type": "markdown",
      "metadata": {
        "id": "ElZhd6ixbuHR"
      },
      "source": [
        "##Sorted Array\n",
        "https://www.geeksforgeeks.org/search-insert-and-delete-in-a-sorted-array/"
      ]
    },
    {
      "cell_type": "code",
      "metadata": {
        "id": "_QskzZ2En1gk"
      },
      "source": [
        "# Python3 program to implement insert\n",
        "# operation in an sorted array.\n",
        "\n",
        "# Inserts a key in arr[] of given capacity.\n",
        "# n is current size of arr[]. This function\n",
        "# returns n+1 if insertion is successful, else n.\n",
        "def insertSorted(arr, n, key, capacity):\n",
        "\t\n",
        "\t# Cannot insert more elements if n is\n",
        "\t# already more than or equal to capacity\n",
        "  if (n >= capacity):\n",
        "\t  return n\n",
        "\n",
        "  i = n - 1\n",
        "  # print(i)\n",
        "  while i >= 0 and arr[i] > key:\n",
        "    arr[i + 1] = arr[i]\n",
        "    i -= 1\n",
        "\n",
        "  arr[i + 1] = key\n",
        "\n",
        "  # print('--')\n",
        "  # print(arr)\n",
        "  return (n + 1)\n",
        "\n",
        "# Driver Code\n",
        "# arr = [12, 16, 20, 40, 50, 70]\n",
        "\n",
        "# for i in range(20):\n",
        "#   arr.append(0)\n",
        "\n",
        "# capacity = len(arr)\n",
        "# n = 6\n",
        "# key = 26\n",
        "\n",
        "# print(\"Before Insertion: \", end = \" \");\n",
        "# for i in range(n):\n",
        "#   print(arr[i], end = \" \")\n",
        "\n",
        "# # Inserting key\n",
        "# n = insertSorted(arr, n, key, capacity)\n",
        "\n",
        "# print(\"\\nAfter Insertion: \", end = \"\")\n",
        "# for i in range(n):\n",
        "#   print(arr[i], end = \" \")\n",
        "\n",
        "  # This code is contributed by Mohit Kumar\n"
      ],
      "execution_count": null,
      "outputs": []
    },
    {
      "cell_type": "code",
      "metadata": {
        "id": "YvyAOx0ed_qa"
      },
      "source": [
        "def sorted_array_insertion(i):\n",
        "  arr=[0 for i in range (2**i)]\n",
        "  n=0\n",
        "  for k in range(2**i+1):\n",
        "    n = insertSorted(arr,n,randint(1, 2**30+1),2**i)\n",
        "    # print(arr)"
      ],
      "execution_count": null,
      "outputs": []
    },
    {
      "cell_type": "code",
      "metadata": {
        "id": "924Vi4gekngi",
        "colab": {
          "base_uri": "https://localhost:8080/",
          "height": 552
        },
        "outputId": "07118b63-9ee5-4e42-a7de-477e184211d0"
      },
      "source": [
        "sorted_result=[]\n",
        "for i in range(10,31):\n",
        "  result = timeit.timeit(stmt='sorted_array_insertion(i)', setup='from __main__ import sorted_array_insertion,i', number=1)\n",
        "  sorted_result.append(result)\n",
        "  print(sorted_result)\n",
        "# df[\"Merge_Sort\"]=result_list  "
      ],
      "execution_count": null,
      "outputs": [
        {
          "output_type": "stream",
          "name": "stdout",
          "text": [
            "[0.06494931599991105]\n",
            "[0.06494931599991105, 0.28286422999917704]\n",
            "[0.06494931599991105, 0.28286422999917704, 0.9970386259992665]\n",
            "[0.06494931599991105, 0.28286422999917704, 0.9970386259992665, 4.050502915000834]\n",
            "[0.06494931599991105, 0.28286422999917704, 0.9970386259992665, 4.050502915000834, 15.455861664000622]\n",
            "[0.06494931599991105, 0.28286422999917704, 0.9970386259992665, 4.050502915000834, 15.455861664000622, 64.80820068299909]\n",
            "[0.06494931599991105, 0.28286422999917704, 0.9970386259992665, 4.050502915000834, 15.455861664000622, 64.80820068299909, 252.9835937910011]\n",
            "[0.06494931599991105, 0.28286422999917704, 0.9970386259992665, 4.050502915000834, 15.455861664000622, 64.80820068299909, 252.9835937910011, 1111.744209751001]\n"
          ]
        },
        {
          "output_type": "error",
          "ename": "KeyboardInterrupt",
          "evalue": "ignored",
          "traceback": [
            "\u001b[0;31m---------------------------------------------------------------------------\u001b[0m",
            "\u001b[0;31mKeyboardInterrupt\u001b[0m                         Traceback (most recent call last)",
            "\u001b[0;32m<ipython-input-73-18a7817f6f33>\u001b[0m in \u001b[0;36m<module>\u001b[0;34m()\u001b[0m\n\u001b[1;32m      1\u001b[0m \u001b[0msorted_result\u001b[0m\u001b[0;34m=\u001b[0m\u001b[0;34m[\u001b[0m\u001b[0;34m]\u001b[0m\u001b[0;34m\u001b[0m\u001b[0;34m\u001b[0m\u001b[0m\n\u001b[1;32m      2\u001b[0m \u001b[0;32mfor\u001b[0m \u001b[0mi\u001b[0m \u001b[0;32min\u001b[0m \u001b[0mrange\u001b[0m\u001b[0;34m(\u001b[0m\u001b[0;36m10\u001b[0m\u001b[0;34m,\u001b[0m\u001b[0;36m31\u001b[0m\u001b[0;34m)\u001b[0m\u001b[0;34m:\u001b[0m\u001b[0;34m\u001b[0m\u001b[0;34m\u001b[0m\u001b[0m\n\u001b[0;32m----> 3\u001b[0;31m   \u001b[0mresult\u001b[0m \u001b[0;34m=\u001b[0m \u001b[0mtimeit\u001b[0m\u001b[0;34m.\u001b[0m\u001b[0mtimeit\u001b[0m\u001b[0;34m(\u001b[0m\u001b[0mstmt\u001b[0m\u001b[0;34m=\u001b[0m\u001b[0;34m'sorted_array_insertion(i)'\u001b[0m\u001b[0;34m,\u001b[0m \u001b[0msetup\u001b[0m\u001b[0;34m=\u001b[0m\u001b[0;34m'from __main__ import sorted_array_insertion,i'\u001b[0m\u001b[0;34m,\u001b[0m \u001b[0mnumber\u001b[0m\u001b[0;34m=\u001b[0m\u001b[0;36m1\u001b[0m\u001b[0;34m)\u001b[0m\u001b[0;34m\u001b[0m\u001b[0;34m\u001b[0m\u001b[0m\n\u001b[0m\u001b[1;32m      4\u001b[0m   \u001b[0msorted_result\u001b[0m\u001b[0;34m.\u001b[0m\u001b[0mappend\u001b[0m\u001b[0;34m(\u001b[0m\u001b[0mresult\u001b[0m\u001b[0;34m)\u001b[0m\u001b[0;34m\u001b[0m\u001b[0;34m\u001b[0m\u001b[0m\n\u001b[1;32m      5\u001b[0m   \u001b[0mprint\u001b[0m\u001b[0;34m(\u001b[0m\u001b[0msorted_result\u001b[0m\u001b[0;34m)\u001b[0m\u001b[0;34m\u001b[0m\u001b[0;34m\u001b[0m\u001b[0m\n",
            "\u001b[0;32m/usr/lib/python3.7/timeit.py\u001b[0m in \u001b[0;36mtimeit\u001b[0;34m(stmt, setup, timer, number, globals)\u001b[0m\n\u001b[1;32m    231\u001b[0m            number=default_number, globals=None):\n\u001b[1;32m    232\u001b[0m     \u001b[0;34m\"\"\"Convenience function to create Timer object and call timeit method.\"\"\"\u001b[0m\u001b[0;34m\u001b[0m\u001b[0;34m\u001b[0m\u001b[0m\n\u001b[0;32m--> 233\u001b[0;31m     \u001b[0;32mreturn\u001b[0m \u001b[0mTimer\u001b[0m\u001b[0;34m(\u001b[0m\u001b[0mstmt\u001b[0m\u001b[0;34m,\u001b[0m \u001b[0msetup\u001b[0m\u001b[0;34m,\u001b[0m \u001b[0mtimer\u001b[0m\u001b[0;34m,\u001b[0m \u001b[0mglobals\u001b[0m\u001b[0;34m)\u001b[0m\u001b[0;34m.\u001b[0m\u001b[0mtimeit\u001b[0m\u001b[0;34m(\u001b[0m\u001b[0mnumber\u001b[0m\u001b[0;34m)\u001b[0m\u001b[0;34m\u001b[0m\u001b[0;34m\u001b[0m\u001b[0m\n\u001b[0m\u001b[1;32m    234\u001b[0m \u001b[0;34m\u001b[0m\u001b[0m\n\u001b[1;32m    235\u001b[0m def repeat(stmt=\"pass\", setup=\"pass\", timer=default_timer,\n",
            "\u001b[0;32m/usr/lib/python3.7/timeit.py\u001b[0m in \u001b[0;36mtimeit\u001b[0;34m(self, number)\u001b[0m\n\u001b[1;32m    175\u001b[0m         \u001b[0mgc\u001b[0m\u001b[0;34m.\u001b[0m\u001b[0mdisable\u001b[0m\u001b[0;34m(\u001b[0m\u001b[0;34m)\u001b[0m\u001b[0;34m\u001b[0m\u001b[0;34m\u001b[0m\u001b[0m\n\u001b[1;32m    176\u001b[0m         \u001b[0;32mtry\u001b[0m\u001b[0;34m:\u001b[0m\u001b[0;34m\u001b[0m\u001b[0;34m\u001b[0m\u001b[0m\n\u001b[0;32m--> 177\u001b[0;31m             \u001b[0mtiming\u001b[0m \u001b[0;34m=\u001b[0m \u001b[0mself\u001b[0m\u001b[0;34m.\u001b[0m\u001b[0minner\u001b[0m\u001b[0;34m(\u001b[0m\u001b[0mit\u001b[0m\u001b[0;34m,\u001b[0m \u001b[0mself\u001b[0m\u001b[0;34m.\u001b[0m\u001b[0mtimer\u001b[0m\u001b[0;34m)\u001b[0m\u001b[0;34m\u001b[0m\u001b[0;34m\u001b[0m\u001b[0m\n\u001b[0m\u001b[1;32m    178\u001b[0m         \u001b[0;32mfinally\u001b[0m\u001b[0;34m:\u001b[0m\u001b[0;34m\u001b[0m\u001b[0;34m\u001b[0m\u001b[0m\n\u001b[1;32m    179\u001b[0m             \u001b[0;32mif\u001b[0m \u001b[0mgcold\u001b[0m\u001b[0;34m:\u001b[0m\u001b[0;34m\u001b[0m\u001b[0;34m\u001b[0m\u001b[0m\n",
            "\u001b[0;32m/usr/lib/python3.7/timeit.py\u001b[0m in \u001b[0;36minner\u001b[0;34m(_it, _timer)\u001b[0m\n",
            "\u001b[0;32m<ipython-input-72-e7025a1bf9da>\u001b[0m in \u001b[0;36msorted_array_insertion\u001b[0;34m(i)\u001b[0m\n\u001b[1;32m      3\u001b[0m   \u001b[0mn\u001b[0m\u001b[0;34m=\u001b[0m\u001b[0;36m0\u001b[0m\u001b[0;34m\u001b[0m\u001b[0;34m\u001b[0m\u001b[0m\n\u001b[1;32m      4\u001b[0m   \u001b[0;32mfor\u001b[0m \u001b[0mk\u001b[0m \u001b[0;32min\u001b[0m \u001b[0mrange\u001b[0m\u001b[0;34m(\u001b[0m\u001b[0;36m2\u001b[0m\u001b[0;34m**\u001b[0m\u001b[0mi\u001b[0m\u001b[0;34m+\u001b[0m\u001b[0;36m1\u001b[0m\u001b[0;34m)\u001b[0m\u001b[0;34m:\u001b[0m\u001b[0;34m\u001b[0m\u001b[0;34m\u001b[0m\u001b[0m\n\u001b[0;32m----> 5\u001b[0;31m     \u001b[0mn\u001b[0m \u001b[0;34m=\u001b[0m \u001b[0minsertSorted\u001b[0m\u001b[0;34m(\u001b[0m\u001b[0marr\u001b[0m\u001b[0;34m,\u001b[0m\u001b[0mn\u001b[0m\u001b[0;34m,\u001b[0m\u001b[0mrandint\u001b[0m\u001b[0;34m(\u001b[0m\u001b[0;36m1\u001b[0m\u001b[0;34m,\u001b[0m \u001b[0;36m2\u001b[0m\u001b[0;34m**\u001b[0m\u001b[0;36m30\u001b[0m\u001b[0;34m+\u001b[0m\u001b[0;36m1\u001b[0m\u001b[0;34m)\u001b[0m\u001b[0;34m,\u001b[0m\u001b[0;36m2\u001b[0m\u001b[0;34m**\u001b[0m\u001b[0mi\u001b[0m\u001b[0;34m)\u001b[0m\u001b[0;34m\u001b[0m\u001b[0;34m\u001b[0m\u001b[0m\n\u001b[0m\u001b[1;32m      6\u001b[0m     \u001b[0;31m# print(arr)\u001b[0m\u001b[0;34m\u001b[0m\u001b[0;34m\u001b[0m\u001b[0;34m\u001b[0m\u001b[0m\n",
            "\u001b[0;32m<ipython-input-71-90226625dd47>\u001b[0m in \u001b[0;36minsertSorted\u001b[0;34m(arr, n, key, capacity)\u001b[0m\n\u001b[1;32m     15\u001b[0m   \u001b[0;31m# print(i)\u001b[0m\u001b[0;34m\u001b[0m\u001b[0;34m\u001b[0m\u001b[0;34m\u001b[0m\u001b[0m\n\u001b[1;32m     16\u001b[0m   \u001b[0;32mwhile\u001b[0m \u001b[0mi\u001b[0m \u001b[0;34m>=\u001b[0m \u001b[0;36m0\u001b[0m \u001b[0;32mand\u001b[0m \u001b[0marr\u001b[0m\u001b[0;34m[\u001b[0m\u001b[0mi\u001b[0m\u001b[0;34m]\u001b[0m \u001b[0;34m>\u001b[0m \u001b[0mkey\u001b[0m\u001b[0;34m:\u001b[0m\u001b[0;34m\u001b[0m\u001b[0;34m\u001b[0m\u001b[0m\n\u001b[0;32m---> 17\u001b[0;31m     \u001b[0marr\u001b[0m\u001b[0;34m[\u001b[0m\u001b[0mi\u001b[0m \u001b[0;34m+\u001b[0m \u001b[0;36m1\u001b[0m\u001b[0;34m]\u001b[0m \u001b[0;34m=\u001b[0m \u001b[0marr\u001b[0m\u001b[0;34m[\u001b[0m\u001b[0mi\u001b[0m\u001b[0;34m]\u001b[0m\u001b[0;34m\u001b[0m\u001b[0;34m\u001b[0m\u001b[0m\n\u001b[0m\u001b[1;32m     18\u001b[0m     \u001b[0mi\u001b[0m \u001b[0;34m-=\u001b[0m \u001b[0;36m1\u001b[0m\u001b[0;34m\u001b[0m\u001b[0;34m\u001b[0m\u001b[0m\n\u001b[1;32m     19\u001b[0m \u001b[0;34m\u001b[0m\u001b[0m\n",
            "\u001b[0;31mKeyboardInterrupt\u001b[0m: "
          ]
        }
      ]
    },
    {
      "cell_type": "code",
      "metadata": {
        "id": "PHbqLkP3cJmg"
      },
      "source": [
        "treap_result=[]\n",
        "for i in range(10,31):\n",
        "  result = timeit.timeit(stmt='treap_insertion(i)', setup='from __main__ import treap_insertion,i', number=1)\n",
        "  treap_result.append(result)\n",
        "  print(treap_result)\n",
        "# df[\"Merge_Sort\"]=result_list"
      ],
      "execution_count": null,
      "outputs": []
    },
    {
      "cell_type": "markdown",
      "metadata": {
        "id": "LDfnUYU9zxx2"
      },
      "source": [
        "##Result"
      ]
    },
    {
      "cell_type": "code",
      "metadata": {
        "id": "JOCXI2x5kntb"
      },
      "source": [
        "skip_list=[0.020601822000116954,0.030961246000060783,0.061286244000257284,0.14223762099982196,0.29320965799979604,0.6514170239997839,1.4120556410002791,2.897249030999774,6.347698308999952,13.87970051100001,28.812510271000065,61.32111035600019,134.44714336900006,293.356273849,635.6528700719996,1400.6854010029997]\n",
        "# skip_list_pnt_one=[0.014409685999453359, 0.03287607200036291, 0.06338832900019042, 0.1459880250004062, 0.3368568490004691, 0.8015491030000703, 1.7612626959999034, 4.05046171199956, 9.457249027999751, 20.429899739000575, 43.35292916900016, 95.14877296000031, 223.39083075500002, 486.0166188309995, 1069.3555141460001, 2490.5328761810006]\n",
        "skip_list_pnt_one=[0.021349042000110785, 0.030007870999725128, 0.06335037900043972, 0.16012856799989095, 0.33487655499993707, 0.7207826339999883, 1.7822136390004744, 3.9699184729997796, 8.994107459000588, 19.231622785999207, 43.093923593999534, 93.21079515200017, 213.58443005400022, 453.985843726, 1033.8169954079995]\n",
        "skip_list_pnt_nine=[0.02433500000006461, 0.05727675799971621, 0.11098666899852105, 0.26888763200076937, 0.531104748000871, 1.166771816999244, 2.3061071800002537, 4.917165085000306, 10.834562020998419, 23.46144300299966, 49.40654453000025, 109.91839049400005, 222.56968670199967, 446.8899360590003, 965.9890685089995, 2184.6165488940005]\n",
        "# treap = [0.009746294999786187, 0.02028780100044969, 0.04357354000057967, 0.09280602700164309, 0.21135465500083228, 0.4683779010010767, 1.0358267389983666, 2.414331295000011, 5.4828864310002245, 11.77415107699926, 27.64196148100018, 69.11787903199911, 154.99593234500026, 324.07720350899945, 592.049107118999, 1156.1368744330011]\n",
        "treap = [0.015426907999426476, 0.03900058599992917, 0.07026622499961377, 0.15945797699987452, 0.3550801790006517, 0.7318713399999979, 1.5999339250001867, 3.417615006000233, 7.880661983000209, 16.646020531999966, 34.87037629699989, 78.21176222600025, 162.1653033419998, 343.70393793399944, 733.7575794909999]\n",
        "sorted_arr=[0.06494931599991105, 0.28286422999917704, 0.9970386259992665, 4.050502915000834, 15.455861664000622, 64.80820068299909, 252.9835937910011, 1111.744209751001]\n"
      ],
      "execution_count": null,
      "outputs": []
    },
    {
      "cell_type": "markdown",
      "metadata": {
        "id": "_m6DtS4uN4mQ"
      },
      "source": [
        "###Populate data"
      ]
    },
    {
      "cell_type": "code",
      "metadata": {
        "id": "15lvD_0WN4Ih"
      },
      "source": [
        "while(len(skip_list)!=21):\n",
        "  skip_list.append(skip_list[len(skip_list)-1]*2)\n",
        "\n",
        "while(len(skip_list_pnt_one)!=21):\n",
        "  skip_list_pnt_one.append(skip_list_pnt_one[len(skip_list_pnt_one)-1]*2)\n",
        "\n",
        "while(len(skip_list_pnt_nine)!=21):\n",
        "  skip_list_pnt_nine.append(skip_list_pnt_nine[len(skip_list_pnt_nine)-1]*2)\n",
        "\n",
        "while(len(treap)!=21):\n",
        "  treap.append(treap[len(treap)-1]*2)\n",
        "\n",
        "while(len(sorted_arr)!=21):\n",
        "  sorted_arr.append(sorted_arr[len(sorted_arr)-1]*4)\n"
      ],
      "execution_count": null,
      "outputs": []
    },
    {
      "cell_type": "code",
      "metadata": {
        "colab": {
          "base_uri": "https://localhost:8080/",
          "height": 312
        },
        "id": "pV1gveUdNJ8g",
        "outputId": "9e3215d6-d94f-4ba9-eda9-2387618551e9"
      },
      "source": [
        "insertion_df = pd.DataFrame({\n",
        "    'skip list p=0.5':skip_list,\n",
        "    'skip list p=0.1':skip_list_pnt_one,\n",
        "    'skip list p=0.9':skip_list_pnt_nine,\n",
        "    'treap':treap\n",
        "    # 'sorted array':sorted_arr\n",
        "})\n",
        "insertion_df.index = np.arange(10, len(insertion_df)+10)\n",
        "insertion_df.plot(xlabel='2^k', ylabel='Time complexity', title='Insertion')"
      ],
      "execution_count": null,
      "outputs": [
        {
          "output_type": "execute_result",
          "data": {
            "text/plain": [
              "<matplotlib.axes._subplots.AxesSubplot at 0x7f556ae131d0>"
            ]
          },
          "metadata": {},
          "execution_count": 4
        },
        {
          "output_type": "display_data",
          "data": {
            "image/png": "[encoded data removed]",
            "text/plain": [
              "<Figure size 432x288 with 1 Axes>"
            ]
          },
          "metadata": {
            "needs_background": "light"
          }
        }
      ]
    },
    {
      "cell_type": "code",
      "metadata": {
        "colab": {
          "base_uri": "https://localhost:8080/",
          "height": 708
        },
        "id": "1C_Tf5ZBGLlz",
        "outputId": "4e17ddd5-f36b-4273-c09a-79df8bf5a46a"
      },
      "source": [
        "insertion_df"
      ],
      "execution_count": null,
      "outputs": [
        {
          "output_type": "execute_result",
          "data": {
            "text/html": [
              "<div>\n",
              "<style scoped>\n",
              "    .dataframe tbody tr th:only-of-type {\n",
              "        vertical-align: middle;\n",
              "    }\n",
              "\n",
              "    .dataframe tbody tr th {\n",
              "        vertical-align: top;\n",
              "    }\n",
              "\n",
              "    .dataframe thead th {\n",
              "        text-align: right;\n",
              "    }\n",
              "</style>\n",
              "<table border=\"1\" class=\"dataframe\">\n",
              "  <thead>\n",
              "    <tr style=\"text-align: right;\">\n",
              "      <th></th>\n",
              "      <th>skip list p=0.5</th>\n",
              "      <th>skip list p=0.1</th>\n",
              "      <th>skip list p=0.9</th>\n",
              "      <th>treap</th>\n",
              "    </tr>\n",
              "  </thead>\n",
              "  <tbody>\n",
              "    <tr>\n",
              "      <th>10</th>\n",
              "      <td>0.020602</td>\n",
              "      <td>0.021349</td>\n",
              "      <td>0.024335</td>\n",
              "      <td>0.015427</td>\n",
              "    </tr>\n",
              "    <tr>\n",
              "      <th>11</th>\n",
              "      <td>0.030961</td>\n",
              "      <td>0.030008</td>\n",
              "      <td>0.057277</td>\n",
              "      <td>0.039001</td>\n",
              "    </tr>\n",
              "    <tr>\n",
              "      <th>12</th>\n",
              "      <td>0.061286</td>\n",
              "      <td>0.063350</td>\n",
              "      <td>0.110987</td>\n",
              "      <td>0.070266</td>\n",
              "    </tr>\n",
              "    <tr>\n",
              "      <th>13</th>\n",
              "      <td>0.142238</td>\n",
              "      <td>0.160129</td>\n",
              "      <td>0.268888</td>\n",
              "      <td>0.159458</td>\n",
              "    </tr>\n",
              "    <tr>\n",
              "      <th>14</th>\n",
              "      <td>0.293210</td>\n",
              "      <td>0.334877</td>\n",
              "      <td>0.531105</td>\n",
              "      <td>0.355080</td>\n",
              "    </tr>\n",
              "    <tr>\n",
              "      <th>15</th>\n",
              "      <td>0.651417</td>\n",
              "      <td>0.720783</td>\n",
              "      <td>1.166772</td>\n",
              "      <td>0.731871</td>\n",
              "    </tr>\n",
              "    <tr>\n",
              "      <th>16</th>\n",
              "      <td>1.412056</td>\n",
              "      <td>1.782214</td>\n",
              "      <td>2.306107</td>\n",
              "      <td>1.599934</td>\n",
              "    </tr>\n",
              "    <tr>\n",
              "      <th>17</th>\n",
              "      <td>2.897249</td>\n",
              "      <td>3.969918</td>\n",
              "      <td>4.917165</td>\n",
              "      <td>3.417615</td>\n",
              "    </tr>\n",
              "    <tr>\n",
              "      <th>18</th>\n",
              "      <td>6.347698</td>\n",
              "      <td>8.994107</td>\n",
              "      <td>10.834562</td>\n",
              "      <td>7.880662</td>\n",
              "    </tr>\n",
              "    <tr>\n",
              "      <th>19</th>\n",
              "      <td>13.879701</td>\n",
              "      <td>19.231623</td>\n",
              "      <td>23.461443</td>\n",
              "      <td>16.646021</td>\n",
              "    </tr>\n",
              "    <tr>\n",
              "      <th>20</th>\n",
              "      <td>28.812510</td>\n",
              "      <td>43.093924</td>\n",
              "      <td>49.406545</td>\n",
              "      <td>34.870376</td>\n",
              "    </tr>\n",
              "    <tr>\n",
              "      <th>21</th>\n",
              "      <td>61.321110</td>\n",
              "      <td>93.210795</td>\n",
              "      <td>109.918390</td>\n",
              "      <td>78.211762</td>\n",
              "    </tr>\n",
              "    <tr>\n",
              "      <th>22</th>\n",
              "      <td>134.447143</td>\n",
              "      <td>213.584430</td>\n",
              "      <td>222.569687</td>\n",
              "      <td>162.165303</td>\n",
              "    </tr>\n",
              "    <tr>\n",
              "      <th>23</th>\n",
              "      <td>293.356274</td>\n",
              "      <td>453.985844</td>\n",
              "      <td>446.889936</td>\n",
              "      <td>343.703938</td>\n",
              "    </tr>\n",
              "    <tr>\n",
              "      <th>24</th>\n",
              "      <td>635.652870</td>\n",
              "      <td>1033.816995</td>\n",
              "      <td>965.989069</td>\n",
              "      <td>733.757579</td>\n",
              "    </tr>\n",
              "    <tr>\n",
              "      <th>25</th>\n",
              "      <td>1400.685401</td>\n",
              "      <td>2067.633991</td>\n",
              "      <td>2184.616549</td>\n",
              "      <td>1467.515159</td>\n",
              "    </tr>\n",
              "    <tr>\n",
              "      <th>26</th>\n",
              "      <td>2801.370802</td>\n",
              "      <td>4135.267982</td>\n",
              "      <td>4369.233098</td>\n",
              "      <td>2935.030318</td>\n",
              "    </tr>\n",
              "    <tr>\n",
              "      <th>27</th>\n",
              "      <td>5602.741604</td>\n",
              "      <td>8270.535963</td>\n",
              "      <td>8738.466196</td>\n",
              "      <td>5870.060636</td>\n",
              "    </tr>\n",
              "    <tr>\n",
              "      <th>28</th>\n",
              "      <td>11205.483208</td>\n",
              "      <td>16541.071927</td>\n",
              "      <td>17476.932391</td>\n",
              "      <td>11740.121272</td>\n",
              "    </tr>\n",
              "    <tr>\n",
              "      <th>29</th>\n",
              "      <td>22410.966416</td>\n",
              "      <td>33082.143853</td>\n",
              "      <td>34953.864782</td>\n",
              "      <td>23480.242544</td>\n",
              "    </tr>\n",
              "    <tr>\n",
              "      <th>30</th>\n",
              "      <td>44821.932832</td>\n",
              "      <td>66164.287706</td>\n",
              "      <td>69907.729565</td>\n",
              "      <td>46960.485087</td>\n",
              "    </tr>\n",
              "  </tbody>\n",
              "</table>\n",
              "</div>"
            ],
            "text/plain": [
              "    skip list p=0.5  skip list p=0.1  skip list p=0.9         treap\n",
              "10         0.020602         0.021349         0.024335      0.015427\n",
              "11         0.030961         0.030008         0.057277      0.039001\n",
              "12         0.061286         0.063350         0.110987      0.070266\n",
              "13         0.142238         0.160129         0.268888      0.159458\n",
              "14         0.293210         0.334877         0.531105      0.355080\n",
              "15         0.651417         0.720783         1.166772      0.731871\n",
              "16         1.412056         1.782214         2.306107      1.599934\n",
              "17         2.897249         3.969918         4.917165      3.417615\n",
              "18         6.347698         8.994107        10.834562      7.880662\n",
              "19        13.879701        19.231623        23.461443     16.646021\n",
              "20        28.812510        43.093924        49.406545     34.870376\n",
              "21        61.321110        93.210795       109.918390     78.211762\n",
              "22       134.447143       213.584430       222.569687    162.165303\n",
              "23       293.356274       453.985844       446.889936    343.703938\n",
              "24       635.652870      1033.816995       965.989069    733.757579\n",
              "25      1400.685401      2067.633991      2184.616549   1467.515159\n",
              "26      2801.370802      4135.267982      4369.233098   2935.030318\n",
              "27      5602.741604      8270.535963      8738.466196   5870.060636\n",
              "28     11205.483208     16541.071927     17476.932391  11740.121272\n",
              "29     22410.966416     33082.143853     34953.864782  23480.242544\n",
              "30     44821.932832     66164.287706     69907.729565  46960.485087"
            ]
          },
          "metadata": {},
          "execution_count": 5
        }
      ]
    },
    {
      "cell_type": "code",
      "metadata": {
        "id": "18FxhDg6GilM"
      },
      "source": [
        "insertion_df.to_csv(\"insertion_result.dat\", sep = \"|\")"
      ],
      "execution_count": null,
      "outputs": []
    },
    {
      "cell_type": "markdown",
      "metadata": {
        "id": "rHKB05DObr-F"
      },
      "source": [
        "#2. Search: Skip List vs. Treap vs. Sorted Array"
      ]
    },
    {
      "cell_type": "markdown",
      "metadata": {
        "id": "wn81_t4r2_Bd"
      },
      "source": [
        "##Prob=0.5"
      ]
    },
    {
      "cell_type": "code",
      "metadata": {
        "id": "0wGYPJkcbtSu"
      },
      "source": [
        "from random import randint, seed\n",
        "\n",
        "class Node:  \n",
        "    def __init__(self, height = 0, elem = None):\n",
        "        self.elem = elem\n",
        "        self.next = [None]*height\n",
        "\n",
        "class SkipList:\n",
        "    def __init__(self):\n",
        "        self.head = Node()\n",
        "        self.len = 0\n",
        "        self.maxHeight = 0\n",
        "\n",
        "    def __len__(self):\n",
        "        return self.len\n",
        "\n",
        "    def find(self, elem, update = None):\n",
        "        if update == None:\n",
        "            update = self.updateList(elem)\n",
        "        if len(update) > 0:\n",
        "            item = update[0].next[0]\n",
        "            if item != None and item.elem == elem:\n",
        "                return item\n",
        "        return None\n",
        "    \n",
        "    def contains(self, elem, update = None):\n",
        "        return self.find(elem, update) != None\n",
        "\n",
        "    def randomHeight(self):\n",
        "        height = 1\n",
        "        while randint(1, 2) != 1:\n",
        "            height += 1\n",
        "        return height\n",
        "\n",
        "    def updateList(self, elem):\n",
        "        update = [None]*self.maxHeight\n",
        "        x = self.head\n",
        "        for i in reversed(range(self.maxHeight)):\n",
        "            while x.next[i] != None and x.next[i].elem < elem:\n",
        "                x = x.next[i]\n",
        "            update[i] = x\n",
        "        return update\n",
        "        \n",
        "    def insert(self, elem):\n",
        "\n",
        "        _node = Node(self.randomHeight(), elem)\n",
        "\n",
        "        self.maxHeight = max(self.maxHeight, len(_node.next))\n",
        "        while len(self.head.next) < len(_node.next):\n",
        "            self.head.next.append(None)\n",
        "\n",
        "        update = self.updateList(elem)            \n",
        "        if self.find(elem, update) == None:\n",
        "            for i in range(len(_node.next)):\n",
        "                _node.next[i] = update[i].next[i]\n",
        "                update[i].next[i] = _node\n",
        "            self.len += 1\n",
        "\n",
        "    def remove(self, elem):\n",
        "\n",
        "        update = self.updateList(elem)\n",
        "        x = self.find(elem, update)\n",
        "        if x != None:\n",
        "            for i in reversed(range(len(x.next))):\n",
        "                update[i].next[i] = x.next[i]\n",
        "                if self.head.next[i] == None:\n",
        "                    self.maxHeight -= 1\n",
        "            self.len -= 1            \n",
        "                \n",
        "    # def printList(self):\n",
        "    #     for i in range(len(self.head.next)-1, -1, -1):\n",
        "    #         x = self.head\n",
        "    #         while x.next[i] != None:\n",
        "    #             print x.next[i].elem,\n",
        "    #             x = x.next[i]\n",
        "    #         print ''\n",
        "    \n",
        "# Driver to test above code\n",
        "def skip_list_insertion(i):\n",
        "  lst = SkipList()\n",
        "  for k in range(2**i):\n",
        "    lst.insert(randint(1, 2**30))\n",
        "  return lst\n",
        "\n",
        "def skip_list_search(lst):\n",
        "  lst = SkipList()\n",
        "  for k in range(100000):\n",
        "    lst.find(randint(1, 2**30))"
      ],
      "execution_count": null,
      "outputs": []
    },
    {
      "cell_type": "code",
      "metadata": {
        "colab": {
          "base_uri": "https://localhost:8080/"
        },
        "id": "oQ96zmqY3RhA",
        "outputId": "f9e2eab5-059f-4ebc-9b4e-a02dda510c2c"
      },
      "source": [
        "skip_list_result=[]\n",
        "for i in range(10,31):\n",
        "  skip_list = skip_list_insertion(i)\n",
        "  result = timeit.timeit(stmt='skip_list_search(skip_list)', setup='from __main__ import skip_list_search,skip_list', number=1)\n",
        "  skip_list_result.append(result)\n",
        "  print(skip_list_result)\n",
        "# df[\"Merge_Sort\"]=result_list"
      ],
      "execution_count": null,
      "outputs": [
        {
          "output_type": "stream",
          "name": "stdout",
          "text": [
            "[0.24715227900014725]\n",
            "[0.24715227900014725, 0.24988021399985882]\n",
            "[0.24715227900014725, 0.24988021399985882, 0.24469278600008693]\n",
            "[0.24715227900014725, 0.24988021399985882, 0.24469278600008693, 0.24673226900085865]\n",
            "[0.24715227900014725, 0.24988021399985882, 0.24469278600008693, 0.24673226900085865, 0.2441442780000216]\n",
            "[0.24715227900014725, 0.24988021399985882, 0.24469278600008693, 0.24673226900085865, 0.2441442780000216, 0.24888674400062882]\n",
            "[0.24715227900014725, 0.24988021399985882, 0.24469278600008693, 0.24673226900085865, 0.2441442780000216, 0.24888674400062882, 0.26855766999869957]\n",
            "[0.24715227900014725, 0.24988021399985882, 0.24469278600008693, 0.24673226900085865, 0.2441442780000216, 0.24888674400062882, 0.26855766999869957, 0.2906180080008198]\n",
            "[0.24715227900014725, 0.24988021399985882, 0.24469278600008693, 0.24673226900085865, 0.2441442780000216, 0.24888674400062882, 0.26855766999869957, 0.2906180080008198, 0.3268199129997811]\n",
            "[0.24715227900014725, 0.24988021399985882, 0.24469278600008693, 0.24673226900085865, 0.2441442780000216, 0.24888674400062882, 0.26855766999869957, 0.2906180080008198, 0.3268199129997811, 0.43273116299860703]\n",
            "[0.24715227900014725, 0.24988021399985882, 0.24469278600008693, 0.24673226900085865, 0.2441442780000216, 0.24888674400062882, 0.26855766999869957, 0.2906180080008198, 0.3268199129997811, 0.43273116299860703, 0.714413080999293]\n",
            "[0.24715227900014725, 0.24988021399985882, 0.24469278600008693, 0.24673226900085865, 0.2441442780000216, 0.24888674400062882, 0.26855766999869957, 0.2906180080008198, 0.3268199129997811, 0.43273116299860703, 0.714413080999293, 1.1435030840002582]\n",
            "[0.24715227900014725, 0.24988021399985882, 0.24469278600008693, 0.24673226900085865, 0.2441442780000216, 0.24888674400062882, 0.26855766999869957, 0.2906180080008198, 0.3268199129997811, 0.43273116299860703, 0.714413080999293, 1.1435030840002582, 2.691879064001114]\n",
            "[0.24715227900014725, 0.24988021399985882, 0.24469278600008693, 0.24673226900085865, 0.2441442780000216, 0.24888674400062882, 0.26855766999869957, 0.2906180080008198, 0.3268199129997811, 0.43273116299860703, 0.714413080999293, 1.1435030840002582, 2.691879064001114, 5.148846267000408]\n",
            "[0.24715227900014725, 0.24988021399985882, 0.24469278600008693, 0.24673226900085865, 0.2441442780000216, 0.24888674400062882, 0.26855766999869957, 0.2906180080008198, 0.3268199129997811, 0.43273116299860703, 0.714413080999293, 1.1435030840002582, 2.691879064001114, 5.148846267000408, 13.046779455999058]\n"
          ]
        }
      ]
    },
    {
      "cell_type": "markdown",
      "metadata": {
        "id": "n9KKp2LwT01S"
      },
      "source": [
        "##Prob=0.1"
      ]
    },
    {
      "cell_type": "code",
      "metadata": {
        "id": "q0Wv947sT3cq"
      },
      "source": [
        "from random import randint, seed\n",
        "\n",
        "class Node:  \n",
        "    def __init__(self, height = 0, elem = None):\n",
        "        self.elem = elem\n",
        "        self.next = [None]*height\n",
        "\n",
        "class SkipList:\n",
        "    def __init__(self):\n",
        "        self.head = Node()\n",
        "        self.len = 0\n",
        "        self.maxHeight = 0\n",
        "\n",
        "    def __len__(self):\n",
        "        return self.len\n",
        "\n",
        "    def find(self, elem, update = None):\n",
        "        if update == None:\n",
        "            update = self.updateList(elem)\n",
        "        if len(update) > 0:\n",
        "            item = update[0].next[0]\n",
        "            if item != None and item.elem == elem:\n",
        "                return item\n",
        "        return None\n",
        "    \n",
        "    def contains(self, elem, update = None):\n",
        "        return self.find(elem, update) != None\n",
        "\n",
        "    def randomHeight(self):\n",
        "        height = 1\n",
        "        #probability of head is 0.1 (1/10)\n",
        "        while randint(1, 10) == 1:\n",
        "            height += 1\n",
        "        return height\n",
        "\n",
        "    def updateList(self, elem):\n",
        "        update = [None]*self.maxHeight\n",
        "        x = self.head\n",
        "        for i in reversed(range(self.maxHeight)):\n",
        "            while x.next[i] != None and x.next[i].elem < elem:\n",
        "                x = x.next[i]\n",
        "            update[i] = x\n",
        "        return update\n",
        "        \n",
        "    def insert(self, elem):\n",
        "\n",
        "        _node = Node(self.randomHeight(), elem)\n",
        "\n",
        "        self.maxHeight = max(self.maxHeight, len(_node.next))\n",
        "        while len(self.head.next) < len(_node.next):\n",
        "            self.head.next.append(None)\n",
        "\n",
        "        update = self.updateList(elem)            \n",
        "        if self.find(elem, update) == None:\n",
        "            for i in range(len(_node.next)):\n",
        "                _node.next[i] = update[i].next[i]\n",
        "                update[i].next[i] = _node\n",
        "            self.len += 1\n",
        "\n",
        "    def remove(self, elem):\n",
        "\n",
        "        update = self.updateList(elem)\n",
        "        x = self.find(elem, update)\n",
        "        if x != None:\n",
        "            for i in reversed(range(len(x.next))):\n",
        "                update[i].next[i] = x.next[i]\n",
        "                if self.head.next[i] == None:\n",
        "                    self.maxHeight -= 1\n",
        "            self.len -= 1            \n",
        "                \n",
        "    # def printList(self):\n",
        "    #     for i in range(len(self.head.next)-1, -1, -1):\n",
        "    #         x = self.head\n",
        "    #         while x.next[i] != None:\n",
        "    #             print x.next[i].elem,\n",
        "    #             x = x.next[i]\n",
        "    #         print ''\n",
        "    \n",
        "# Driver to test above code\n",
        "def skip_list_insertion(i):\n",
        "  lst = SkipList()\n",
        "  for k in range(2**i):\n",
        "    lst.insert(randint(1, 2**30))\n",
        "  return lst\n",
        "\n",
        "def skip_list_search(lst):\n",
        "  lst = SkipList()\n",
        "  for k in range(100000):\n",
        "    lst.find(randint(1, 2**30))"
      ],
      "execution_count": null,
      "outputs": []
    },
    {
      "cell_type": "code",
      "metadata": {
        "colab": {
          "base_uri": "https://localhost:8080/",
          "height": 651
        },
        "id": "cD9bhlRVUCmD",
        "outputId": "8bc7fe8b-a4fd-49f0-a541-707103200fa0"
      },
      "source": [
        "skip_list_result=[]\n",
        "for i in range(10,31):\n",
        "  skip_list = skip_list_insertion(i)\n",
        "  result = timeit.timeit(stmt='skip_list_search(skip_list)', setup='from __main__ import skip_list_search,skip_list', number=1)\n",
        "  skip_list_result.append(result)\n",
        "  print(skip_list_result)\n",
        "# df[\"Merge_Sort\"]=result_list"
      ],
      "execution_count": null,
      "outputs": [
        {
          "output_type": "stream",
          "name": "stdout",
          "text": [
            "[0.2611299260000237]\n",
            "[0.2611299260000237, 0.2569890139999984]\n",
            "[0.2611299260000237, 0.2569890139999984, 0.2508762659999775]\n",
            "[0.2611299260000237, 0.2569890139999984, 0.2508762659999775, 0.26029184000003625]\n",
            "[0.2611299260000237, 0.2569890139999984, 0.2508762659999775, 0.26029184000003625, 0.24357270799998787]\n",
            "[0.2611299260000237, 0.2569890139999984, 0.2508762659999775, 0.26029184000003625, 0.24357270799998787, 0.2615561009999965]\n",
            "[0.2611299260000237, 0.2569890139999984, 0.2508762659999775, 0.26029184000003625, 0.24357270799998787, 0.2615561009999965, 0.2621874590000175]\n",
            "[0.2611299260000237, 0.2569890139999984, 0.2508762659999775, 0.26029184000003625, 0.24357270799998787, 0.2615561009999965, 0.2621874590000175, 0.287836120999998]\n",
            "[0.2611299260000237, 0.2569890139999984, 0.2508762659999775, 0.26029184000003625, 0.24357270799998787, 0.2615561009999965, 0.2621874590000175, 0.287836120999998, 0.3388233790000186]\n",
            "[0.2611299260000237, 0.2569890139999984, 0.2508762659999775, 0.26029184000003625, 0.24357270799998787, 0.2615561009999965, 0.2621874590000175, 0.287836120999998, 0.3388233790000186, 0.4451202430000194]\n",
            "[0.2611299260000237, 0.2569890139999984, 0.2508762659999775, 0.26029184000003625, 0.24357270799998787, 0.2615561009999965, 0.2621874590000175, 0.287836120999998, 0.3388233790000186, 0.4451202430000194, 0.6351797080000097]\n",
            "[0.2611299260000237, 0.2569890139999984, 0.2508762659999775, 0.26029184000003625, 0.24357270799998787, 0.2615561009999965, 0.2621874590000175, 0.287836120999998, 0.3388233790000186, 0.4451202430000194, 0.6351797080000097, 1.11277996299998]\n",
            "[0.2611299260000237, 0.2569890139999984, 0.2508762659999775, 0.26029184000003625, 0.24357270799998787, 0.2615561009999965, 0.2621874590000175, 0.287836120999998, 0.3388233790000186, 0.4451202430000194, 0.6351797080000097, 1.11277996299998, 2.088474318000067]\n",
            "[0.2611299260000237, 0.2569890139999984, 0.2508762659999775, 0.26029184000003625, 0.24357270799998787, 0.2615561009999965, 0.2621874590000175, 0.287836120999998, 0.3388233790000186, 0.4451202430000194, 0.6351797080000097, 1.11277996299998, 2.088474318000067, 4.452123919999849]\n",
            "[0.2611299260000237, 0.2569890139999984, 0.2508762659999775, 0.26029184000003625, 0.24357270799998787, 0.2615561009999965, 0.2621874590000175, 0.287836120999998, 0.3388233790000186, 0.4451202430000194, 0.6351797080000097, 1.11277996299998, 2.088474318000067, 4.452123919999849, 10.91431026600003]\n"
          ]
        },
        {
          "output_type": "error",
          "ename": "KeyboardInterrupt",
          "evalue": "ignored",
          "traceback": [
            "\u001b[0;31m---------------------------------------------------------------------------\u001b[0m",
            "\u001b[0;31mKeyboardInterrupt\u001b[0m                         Traceback (most recent call last)",
            "\u001b[0;32m<ipython-input-4-edecf7bc93c8>\u001b[0m in \u001b[0;36m<module>\u001b[0;34m()\u001b[0m\n\u001b[1;32m      1\u001b[0m \u001b[0mskip_list_result\u001b[0m\u001b[0;34m=\u001b[0m\u001b[0;34m[\u001b[0m\u001b[0;34m]\u001b[0m\u001b[0;34m\u001b[0m\u001b[0;34m\u001b[0m\u001b[0m\n\u001b[1;32m      2\u001b[0m \u001b[0;32mfor\u001b[0m \u001b[0mi\u001b[0m \u001b[0;32min\u001b[0m \u001b[0mrange\u001b[0m\u001b[0;34m(\u001b[0m\u001b[0;36m10\u001b[0m\u001b[0;34m,\u001b[0m\u001b[0;36m31\u001b[0m\u001b[0;34m)\u001b[0m\u001b[0;34m:\u001b[0m\u001b[0;34m\u001b[0m\u001b[0;34m\u001b[0m\u001b[0m\n\u001b[0;32m----> 3\u001b[0;31m   \u001b[0mskip_list\u001b[0m \u001b[0;34m=\u001b[0m \u001b[0mskip_list_insertion\u001b[0m\u001b[0;34m(\u001b[0m\u001b[0mi\u001b[0m\u001b[0;34m)\u001b[0m\u001b[0;34m\u001b[0m\u001b[0;34m\u001b[0m\u001b[0m\n\u001b[0m\u001b[1;32m      4\u001b[0m   \u001b[0mresult\u001b[0m \u001b[0;34m=\u001b[0m \u001b[0mtimeit\u001b[0m\u001b[0;34m.\u001b[0m\u001b[0mtimeit\u001b[0m\u001b[0;34m(\u001b[0m\u001b[0mstmt\u001b[0m\u001b[0;34m=\u001b[0m\u001b[0;34m'skip_list_search(skip_list)'\u001b[0m\u001b[0;34m,\u001b[0m \u001b[0msetup\u001b[0m\u001b[0;34m=\u001b[0m\u001b[0;34m'from __main__ import skip_list_search,skip_list'\u001b[0m\u001b[0;34m,\u001b[0m \u001b[0mnumber\u001b[0m\u001b[0;34m=\u001b[0m\u001b[0;36m1\u001b[0m\u001b[0;34m)\u001b[0m\u001b[0;34m\u001b[0m\u001b[0;34m\u001b[0m\u001b[0m\n\u001b[1;32m      5\u001b[0m   \u001b[0mskip_list_result\u001b[0m\u001b[0;34m.\u001b[0m\u001b[0mappend\u001b[0m\u001b[0;34m(\u001b[0m\u001b[0mresult\u001b[0m\u001b[0;34m)\u001b[0m\u001b[0;34m\u001b[0m\u001b[0;34m\u001b[0m\u001b[0m\n",
            "\u001b[0;32m<ipython-input-3-e67fd9be2722>\u001b[0m in \u001b[0;36mskip_list_insertion\u001b[0;34m(i)\u001b[0m\n\u001b[1;32m     81\u001b[0m   \u001b[0mlst\u001b[0m \u001b[0;34m=\u001b[0m \u001b[0mSkipList\u001b[0m\u001b[0;34m(\u001b[0m\u001b[0;34m)\u001b[0m\u001b[0;34m\u001b[0m\u001b[0;34m\u001b[0m\u001b[0m\n\u001b[1;32m     82\u001b[0m   \u001b[0;32mfor\u001b[0m \u001b[0mk\u001b[0m \u001b[0;32min\u001b[0m \u001b[0mrange\u001b[0m\u001b[0;34m(\u001b[0m\u001b[0;36m2\u001b[0m\u001b[0;34m**\u001b[0m\u001b[0mi\u001b[0m\u001b[0;34m+\u001b[0m\u001b[0;36m1\u001b[0m\u001b[0;34m)\u001b[0m\u001b[0;34m:\u001b[0m\u001b[0;34m\u001b[0m\u001b[0;34m\u001b[0m\u001b[0m\n\u001b[0;32m---> 83\u001b[0;31m     \u001b[0mlst\u001b[0m\u001b[0;34m.\u001b[0m\u001b[0minsert\u001b[0m\u001b[0;34m(\u001b[0m\u001b[0mrandint\u001b[0m\u001b[0;34m(\u001b[0m\u001b[0;36m1\u001b[0m\u001b[0;34m,\u001b[0m \u001b[0;36m2\u001b[0m\u001b[0;34m**\u001b[0m\u001b[0;36m30\u001b[0m\u001b[0;34m+\u001b[0m\u001b[0;36m1\u001b[0m\u001b[0;34m)\u001b[0m\u001b[0;34m)\u001b[0m\u001b[0;34m\u001b[0m\u001b[0;34m\u001b[0m\u001b[0m\n\u001b[0m\u001b[1;32m     84\u001b[0m   \u001b[0;32mreturn\u001b[0m \u001b[0mlst\u001b[0m\u001b[0;34m\u001b[0m\u001b[0;34m\u001b[0m\u001b[0m\n\u001b[1;32m     85\u001b[0m \u001b[0;34m\u001b[0m\u001b[0m\n",
            "\u001b[0;32m/usr/lib/python3.7/random.py\u001b[0m in \u001b[0;36mrandint\u001b[0;34m(self, a, b)\u001b[0m\n\u001b[1;32m    220\u001b[0m         \"\"\"\n\u001b[1;32m    221\u001b[0m \u001b[0;34m\u001b[0m\u001b[0m\n\u001b[0;32m--> 222\u001b[0;31m         \u001b[0;32mreturn\u001b[0m \u001b[0mself\u001b[0m\u001b[0;34m.\u001b[0m\u001b[0mrandrange\u001b[0m\u001b[0;34m(\u001b[0m\u001b[0ma\u001b[0m\u001b[0;34m,\u001b[0m \u001b[0mb\u001b[0m\u001b[0;34m+\u001b[0m\u001b[0;36m1\u001b[0m\u001b[0;34m)\u001b[0m\u001b[0;34m\u001b[0m\u001b[0;34m\u001b[0m\u001b[0m\n\u001b[0m\u001b[1;32m    223\u001b[0m \u001b[0;34m\u001b[0m\u001b[0m\n\u001b[1;32m    224\u001b[0m     def _randbelow(self, n, int=int, maxsize=1<<BPF, type=type,\n",
            "\u001b[0;32m/usr/lib/python3.7/random.py\u001b[0m in \u001b[0;36mrandrange\u001b[0;34m(self, start, stop, step, _int)\u001b[0m\n\u001b[1;32m    196\u001b[0m         \u001b[0mwidth\u001b[0m \u001b[0;34m=\u001b[0m \u001b[0mistop\u001b[0m \u001b[0;34m-\u001b[0m \u001b[0mistart\u001b[0m\u001b[0;34m\u001b[0m\u001b[0;34m\u001b[0m\u001b[0m\n\u001b[1;32m    197\u001b[0m         \u001b[0;32mif\u001b[0m \u001b[0mstep\u001b[0m \u001b[0;34m==\u001b[0m \u001b[0;36m1\u001b[0m \u001b[0;32mand\u001b[0m \u001b[0mwidth\u001b[0m \u001b[0;34m>\u001b[0m \u001b[0;36m0\u001b[0m\u001b[0;34m:\u001b[0m\u001b[0;34m\u001b[0m\u001b[0;34m\u001b[0m\u001b[0m\n\u001b[0;32m--> 198\u001b[0;31m             \u001b[0;32mreturn\u001b[0m \u001b[0mistart\u001b[0m \u001b[0;34m+\u001b[0m \u001b[0mself\u001b[0m\u001b[0;34m.\u001b[0m\u001b[0m_randbelow\u001b[0m\u001b[0;34m(\u001b[0m\u001b[0mwidth\u001b[0m\u001b[0;34m)\u001b[0m\u001b[0;34m\u001b[0m\u001b[0;34m\u001b[0m\u001b[0m\n\u001b[0m\u001b[1;32m    199\u001b[0m         \u001b[0;32mif\u001b[0m \u001b[0mstep\u001b[0m \u001b[0;34m==\u001b[0m \u001b[0;36m1\u001b[0m\u001b[0;34m:\u001b[0m\u001b[0;34m\u001b[0m\u001b[0;34m\u001b[0m\u001b[0m\n\u001b[1;32m    200\u001b[0m             \u001b[0;32mraise\u001b[0m \u001b[0mValueError\u001b[0m\u001b[0;34m(\u001b[0m\u001b[0;34m\"empty range for randrange() (%d,%d, %d)\"\u001b[0m \u001b[0;34m%\u001b[0m \u001b[0;34m(\u001b[0m\u001b[0mistart\u001b[0m\u001b[0;34m,\u001b[0m \u001b[0mistop\u001b[0m\u001b[0;34m,\u001b[0m \u001b[0mwidth\u001b[0m\u001b[0;34m)\u001b[0m\u001b[0;34m)\u001b[0m\u001b[0;34m\u001b[0m\u001b[0;34m\u001b[0m\u001b[0m\n",
            "\u001b[0;32m/usr/lib/python3.7/random.py\u001b[0m in \u001b[0;36m_randbelow\u001b[0;34m(self, n, int, maxsize, type, Method, BuiltinMethod)\u001b[0m\n\u001b[1;32m    230\u001b[0m         \u001b[0;31m# Only call self.getrandbits if the original random() builtin method\u001b[0m\u001b[0;34m\u001b[0m\u001b[0;34m\u001b[0m\u001b[0;34m\u001b[0m\u001b[0m\n\u001b[1;32m    231\u001b[0m         \u001b[0;31m# has not been overridden or if a new getrandbits() was supplied.\u001b[0m\u001b[0;34m\u001b[0m\u001b[0;34m\u001b[0m\u001b[0;34m\u001b[0m\u001b[0m\n\u001b[0;32m--> 232\u001b[0;31m         \u001b[0;32mif\u001b[0m \u001b[0mtype\u001b[0m\u001b[0;34m(\u001b[0m\u001b[0mrandom\u001b[0m\u001b[0;34m)\u001b[0m \u001b[0;32mis\u001b[0m \u001b[0mBuiltinMethod\u001b[0m \u001b[0;32mor\u001b[0m \u001b[0mtype\u001b[0m\u001b[0;34m(\u001b[0m\u001b[0mgetrandbits\u001b[0m\u001b[0;34m)\u001b[0m \u001b[0;32mis\u001b[0m \u001b[0mMethod\u001b[0m\u001b[0;34m:\u001b[0m\u001b[0;34m\u001b[0m\u001b[0;34m\u001b[0m\u001b[0m\n\u001b[0m\u001b[1;32m    233\u001b[0m             \u001b[0mk\u001b[0m \u001b[0;34m=\u001b[0m \u001b[0mn\u001b[0m\u001b[0;34m.\u001b[0m\u001b[0mbit_length\u001b[0m\u001b[0;34m(\u001b[0m\u001b[0;34m)\u001b[0m  \u001b[0;31m# don't use (n-1) here because n can be 1\u001b[0m\u001b[0;34m\u001b[0m\u001b[0;34m\u001b[0m\u001b[0m\n\u001b[1;32m    234\u001b[0m             \u001b[0mr\u001b[0m \u001b[0;34m=\u001b[0m \u001b[0mgetrandbits\u001b[0m\u001b[0;34m(\u001b[0m\u001b[0mk\u001b[0m\u001b[0;34m)\u001b[0m          \u001b[0;31m# 0 <= r < 2**k\u001b[0m\u001b[0;34m\u001b[0m\u001b[0;34m\u001b[0m\u001b[0m\n",
            "\u001b[0;31mKeyboardInterrupt\u001b[0m: "
          ]
        }
      ]
    },
    {
      "cell_type": "markdown",
      "metadata": {
        "id": "E1iM3IOaUVWb"
      },
      "source": [
        "##Prob=0.9"
      ]
    },
    {
      "cell_type": "code",
      "metadata": {
        "id": "eIUcO19tUX1a"
      },
      "source": [
        "from random import randint, seed\n",
        "\n",
        "class Node:  \n",
        "    def __init__(self, height = 0, elem = None):\n",
        "        self.elem = elem\n",
        "        self.next = [None]*height\n",
        "\n",
        "class SkipList:\n",
        "    def __init__(self):\n",
        "        self.head = Node()\n",
        "        self.len = 0\n",
        "        self.maxHeight = 0\n",
        "\n",
        "    def __len__(self):\n",
        "        return self.len\n",
        "\n",
        "    def find(self, elem, update = None):\n",
        "        if update == None:\n",
        "            update = self.updateList(elem)\n",
        "        if len(update) > 0:\n",
        "            item = update[0].next[0]\n",
        "            if item != None and item.elem == elem:\n",
        "                return item\n",
        "        return None\n",
        "    \n",
        "    def contains(self, elem, update = None):\n",
        "        return self.find(elem, update) != None\n",
        "\n",
        "    def randomHeight(self):\n",
        "        height = 1\n",
        "        #probability of head is 0.9 (9/10)\n",
        "        while randint(1, 10) in [1,2,3,4,5,6,7,8,9]:\n",
        "            height += 1\n",
        "        return height\n",
        "\n",
        "    def updateList(self, elem):\n",
        "        update = [None]*self.maxHeight\n",
        "        x = self.head\n",
        "        for i in reversed(range(self.maxHeight)):\n",
        "            while x.next[i] != None and x.next[i].elem < elem:\n",
        "                x = x.next[i]\n",
        "            update[i] = x\n",
        "        return update\n",
        "        \n",
        "    def insert(self, elem):\n",
        "\n",
        "        _node = Node(self.randomHeight(), elem)\n",
        "\n",
        "        self.maxHeight = max(self.maxHeight, len(_node.next))\n",
        "        while len(self.head.next) < len(_node.next):\n",
        "            self.head.next.append(None)\n",
        "\n",
        "        update = self.updateList(elem)            \n",
        "        if self.find(elem, update) == None:\n",
        "            for i in range(len(_node.next)):\n",
        "                _node.next[i] = update[i].next[i]\n",
        "                update[i].next[i] = _node\n",
        "            self.len += 1\n",
        "\n",
        "    def remove(self, elem):\n",
        "\n",
        "        update = self.updateList(elem)\n",
        "        x = self.find(elem, update)\n",
        "        if x != None:\n",
        "            for i in reversed(range(len(x.next))):\n",
        "                update[i].next[i] = x.next[i]\n",
        "                if self.head.next[i] == None:\n",
        "                    self.maxHeight -= 1\n",
        "            self.len -= 1            \n",
        "                \n",
        "    # def printList(self):\n",
        "    #     for i in range(len(self.head.next)-1, -1, -1):\n",
        "    #         x = self.head\n",
        "    #         while x.next[i] != None:\n",
        "    #             print x.next[i].elem,\n",
        "    #             x = x.next[i]\n",
        "    #         print ''\n",
        "    \n",
        "# Driver to test above code\n",
        "def skip_list_insertion(i):\n",
        "  lst = SkipList()\n",
        "  for k in range(2**i):\n",
        "    lst.insert(randint(1, 2**30))\n",
        "  return lst\n",
        "\n",
        "def skip_list_search(lst):\n",
        "  lst = SkipList()\n",
        "  for k in range(100000):\n",
        "    lst.find(randint(1, 2**30))"
      ],
      "execution_count": null,
      "outputs": []
    },
    {
      "cell_type": "code",
      "metadata": {
        "id": "B7p245DdUZmT",
        "colab": {
          "base_uri": "https://localhost:8080/"
        },
        "outputId": "a923d8e8-54ab-4104-9e90-7454643b82fd"
      },
      "source": [
        "skip_list_result=[]\n",
        "for i in range(10,31):\n",
        "  skip_list = skip_list_insertion(i)\n",
        "  result = timeit.timeit(stmt='skip_list_search(skip_list)', setup='from __main__ import skip_list_search,skip_list', number=1)\n",
        "  skip_list_result.append(result)\n",
        "  print(skip_list_result)\n",
        "# df[\"Merge_Sort\"]=result_list"
      ],
      "execution_count": null,
      "outputs": [
        {
          "output_type": "stream",
          "name": "stdout",
          "text": [
            "[0.25072851299999854]\n",
            "[0.25072851299999854, 0.2385539019999996]\n",
            "[0.25072851299999854, 0.2385539019999996, 0.2837511520000007]\n",
            "[0.25072851299999854, 0.2385539019999996, 0.2837511520000007, 0.2353501700000038]\n",
            "[0.25072851299999854, 0.2385539019999996, 0.2837511520000007, 0.2353501700000038, 0.24589508400000426]\n",
            "[0.25072851299999854, 0.2385539019999996, 0.2837511520000007, 0.2353501700000038, 0.24589508400000426, 0.25432535099999853]\n",
            "[0.25072851299999854, 0.2385539019999996, 0.2837511520000007, 0.2353501700000038, 0.24589508400000426, 0.25432535099999853, 0.2608473800000013]\n",
            "[0.25072851299999854, 0.2385539019999996, 0.2837511520000007, 0.2353501700000038, 0.24589508400000426, 0.25432535099999853, 0.2608473800000013, 0.2887950810000035]\n",
            "[0.25072851299999854, 0.2385539019999996, 0.2837511520000007, 0.2353501700000038, 0.24589508400000426, 0.25432535099999853, 0.2608473800000013, 0.2887950810000035, 0.3426358579999942]\n",
            "[0.25072851299999854, 0.2385539019999996, 0.2837511520000007, 0.2353501700000038, 0.24589508400000426, 0.25432535099999853, 0.2608473800000013, 0.2887950810000035, 0.3426358579999942, 0.41815218899999707]\n",
            "[0.25072851299999854, 0.2385539019999996, 0.2837511520000007, 0.2353501700000038, 0.24589508400000426, 0.25432535099999853, 0.2608473800000013, 0.2887950810000035, 0.3426358579999942, 0.41815218899999707, 0.624792694000007]\n",
            "[0.25072851299999854, 0.2385539019999996, 0.2837511520000007, 0.2353501700000038, 0.24589508400000426, 0.25432535099999853, 0.2608473800000013, 0.2887950810000035, 0.3426358579999942, 0.41815218899999707, 0.624792694000007, 1.0826206160000424]\n",
            "[0.25072851299999854, 0.2385539019999996, 0.2837511520000007, 0.2353501700000038, 0.24589508400000426, 0.25432535099999853, 0.2608473800000013, 0.2887950810000035, 0.3426358579999942, 0.41815218899999707, 0.624792694000007, 1.0826206160000424, 1.9653005090000306]\n",
            "[0.25072851299999854, 0.2385539019999996, 0.2837511520000007, 0.2353501700000038, 0.24589508400000426, 0.25432535099999853, 0.2608473800000013, 0.2887950810000035, 0.3426358579999942, 0.41815218899999707, 0.624792694000007, 1.0826206160000424, 1.9653005090000306, 4.3548487080001905]\n",
            "[0.25072851299999854, 0.2385539019999996, 0.2837511520000007, 0.2353501700000038, 0.24589508400000426, 0.25432535099999853, 0.2608473800000013, 0.2887950810000035, 0.3426358579999942, 0.41815218899999707, 0.624792694000007, 1.0826206160000424, 1.9653005090000306, 4.3548487080001905, 10.639479040999959]\n"
          ]
        }
      ]
    },
    {
      "cell_type": "markdown",
      "metadata": {
        "id": "0Okm40qlnWXM"
      },
      "source": [
        ""
      ]
    },
    {
      "cell_type": "markdown",
      "metadata": {
        "id": "35Y8GBwWnWcE"
      },
      "source": [
        "##Treap insert+search\n",
        "https://www.cnblogs.com/wuditju/p/6004399.html"
      ]
    },
    {
      "cell_type": "code",
      "metadata": {
        "id": "6bh73z9BnUAT"
      },
      "source": [
        "import random\n",
        "\n",
        "\n",
        "def preorder_tree_walk(node):\n",
        "    if node:\n",
        "        print(node.key, node.priority)\n",
        "        preorder_tree_walk(node.left)\n",
        "        preorder_tree_walk(node.right)\n",
        "\n",
        "\n",
        "def left_rotate(tree, node):\n",
        "    node_right = node.right\n",
        "    if not node.p:\n",
        "        tree.root = node_right\n",
        "    elif node == node.p.left:\n",
        "        node.p.left = node_right\n",
        "    else:\n",
        "        node.p.right = node_right\n",
        "    node_right.p = node.p\n",
        "    node.right = node_right.left\n",
        "    if node_right.left:\n",
        "        node_right.left.p = node\n",
        "    node_right.left = node\n",
        "    node.p = node_right\n",
        "\n",
        "\n",
        "def right_rotate(tree, node):\n",
        "    node_left = node.left\n",
        "    if not node.p:\n",
        "        tree.root = node_left\n",
        "    elif node == node.p.left:\n",
        "        node.p.left = node_left\n",
        "    else:\n",
        "        node.p.right = node_left\n",
        "    node_left.p = node.p\n",
        "    node.left = node_left.right\n",
        "    if node_left.right:\n",
        "        node_left.right.p = node\n",
        "    node_left.right = node\n",
        "    node.p = node_left\n",
        "\n",
        "\n",
        "class TreapNode(object):\n",
        "    def __init__(self, key, priority):\n",
        "        self.key = key\n",
        "        self.priority = priority\n",
        "        self.left = None\n",
        "        self.right = None\n",
        "        self.p = None\n",
        "\n",
        "\n",
        "class Treap(object):\n",
        "    def __init__(self):\n",
        "        self.root = None\n",
        "\n",
        "    def find(self, key):\n",
        "        temp_root = self.root\n",
        "        while temp_root:\n",
        "            if key < temp_root.key:\n",
        "                temp_root = temp_root.left\n",
        "            elif key > temp_root.key:\n",
        "                temp_root = temp_root.right\n",
        "            else:\n",
        "                return temp_root\n",
        "        return None\n",
        "\n",
        "    def insert(self, node):\n",
        "        temp_root = self.root\n",
        "        temp_node = None\n",
        "        while temp_root:\n",
        "            temp_node = temp_root\n",
        "            if node.key >= temp_node.key:\n",
        "                temp_root = temp_root.right\n",
        "            elif node.key < temp_node.key:\n",
        "                temp_root = temp_root.left\n",
        "            else:\n",
        "                raise (KeyError, \"Error\")\n",
        "        if not temp_node:\n",
        "            self.root = node\n",
        "            return\n",
        "        elif node.key < temp_node.key:\n",
        "            temp_node.left = node\n",
        "            node.p = temp_node\n",
        "        elif node.key > temp_node.key:\n",
        "            temp_node.right = node\n",
        "            node.p = temp_node\n",
        "        self.fixup(temp_node, node)\n",
        "\n",
        "    def fixup(self, father, child):\n",
        "        if father:\n",
        "            if child == father.left and child.priority < father.priority:\n",
        "                right_rotate(self, father)\n",
        "            elif child == father.right and child.priority < father.priority:\n",
        "                left_rotate(self, father)\n",
        "            self.fixup(father.p, father)\n",
        "\n",
        "    def delete(self, key):\n",
        "        node = self.root\n",
        "        while node:\n",
        "            if key < node.key:\n",
        "                node = node.left\n",
        "            elif key > node.key:\n",
        "                node = node.right\n",
        "            else:\n",
        "                break\n",
        "        if not node:\n",
        "            raise (KeyError, \"Error!\")\n",
        "    \n",
        "        flag = 1\n",
        "        while flag:\n",
        "            if not node.left:\n",
        "                if node.right:\n",
        "                    node.right.p = node.p\n",
        "                if node.p:\n",
        "                    if node == node.p.left:\n",
        "                        node.p.left = node.right\n",
        "                    else:\n",
        "                        node.p.right = node.right\n",
        "                else:\n",
        "                    self.root = node.right\n",
        "                flag = 0\n",
        "            elif not node.right:\n",
        "                if node.left:\n",
        "                    node.left.p = node.p\n",
        "                if node.p:\n",
        "                    if node == node.p.left:\n",
        "                        node.p.left = node.left\n",
        "                    else:\n",
        "                        node.p.right = node.left\n",
        "                else:\n",
        "                    self.root = node.left\n",
        "                flag = 0\n",
        "            else:\n",
        "                # 如果左右子节点均存在 那么把 priority 值大的放到根节点的位置上 网上给的是递归实现 那有没有可能可以递推实现呢？\n",
        "                # 答案是 有可能的\n",
        "                if node.left.priority < node.right.priority:\n",
        "                    right_rotate(self, node)\n",
        "                else:\n",
        "                    left_rotate(self, node)\n",
        "\n",
        "\n",
        "\n",
        "\n"
      ],
      "execution_count": null,
      "outputs": []
    },
    {
      "cell_type": "code",
      "metadata": {
        "id": "ESDf9ZegSItz"
      },
      "source": [
        "\n",
        "def treap_insertion(tree,i):\n",
        "  for k in range(2**i):\n",
        "    priority = random.randint(1, 2**i)\n",
        "    node = TreapNode(randint(1, 2**30), priority)\n",
        "    tree.insert(node)\n",
        "  return tree.root\n",
        "\n",
        "def treap_search(tree):\n",
        "  for k in range(100000):\n",
        "    res = tree.find(randint(1, 2**30))\n",
        "    # print(res)\n",
        "\n",
        "  "
      ],
      "execution_count": null,
      "outputs": []
    },
    {
      "cell_type": "code",
      "metadata": {
        "colab": {
          "base_uri": "https://localhost:8080/"
        },
        "id": "lPT7SdgvSp1i",
        "outputId": "b0b209e5-d5d2-489d-bab3-c4d7efe0aa1b"
      },
      "source": [
        "insertion_result=0\n",
        "search_result=0\n",
        "treap_insertion_result=[]\n",
        "treap_search_result=[]\n",
        "\n",
        "for i in range(10,30):\n",
        "  tree = Treap()    \n",
        "  insertion_result = timeit.timeit(stmt='treap_insertion(tree,i)', setup='from __main__ import treap_insertion,tree,i', number=1)\n",
        "  search_result = timeit.timeit(stmt='treap_search(tree)', setup='from __main__ import treap_search,tree', number=1)\n",
        "  treap_insertion_result.append(insertion_result)\n",
        "  treap_search_result.append(search_result)\n",
        "  print(f\"Insertion: {treap_insertion_result}\")\n",
        "  print(f\"Search: {treap_search_result}\")\n",
        "  # preorder_tree_walk(tree.root)"
      ],
      "execution_count": null,
      "outputs": [
        {
          "output_type": "stream",
          "name": "stdout",
          "text": [
            "Insertion: [0.015426907999426476]\n",
            "Search: [0.4029132079995179]\n",
            "Insertion: [0.015426907999426476, 0.03900058599992917]\n",
            "Search: [0.4029132079995179, 0.48605569299979834]\n",
            "Insertion: [0.015426907999426476, 0.03900058599992917, 0.07026622499961377]\n",
            "Search: [0.4029132079995179, 0.48605569299979834, 0.47829655000077764]\n",
            "Insertion: [0.015426907999426476, 0.03900058599992917, 0.07026622499961377, 0.15945797699987452]\n",
            "Search: [0.4029132079995179, 0.48605569299979834, 0.47829655000077764, 0.6042917159993522]\n",
            "Insertion: [0.015426907999426476, 0.03900058599992917, 0.07026622499961377, 0.15945797699987452, 0.3550801790006517]\n",
            "Search: [0.4029132079995179, 0.48605569299979834, 0.47829655000077764, 0.6042917159993522, 0.7016972989995338]\n",
            "Insertion: [0.015426907999426476, 0.03900058599992917, 0.07026622499961377, 0.15945797699987452, 0.3550801790006517, 0.7318713399999979]\n",
            "Search: [0.4029132079995179, 0.48605569299979834, 0.47829655000077764, 0.6042917159993522, 0.7016972989995338, 0.8170248410006025]\n",
            "Insertion: [0.015426907999426476, 0.03900058599992917, 0.07026622499961377, 0.15945797699987452, 0.3550801790006517, 0.7318713399999979, 1.5999339250001867]\n",
            "Search: [0.4029132079995179, 0.48605569299979834, 0.47829655000077764, 0.6042917159993522, 0.7016972989995338, 0.8170248410006025, 0.9255230910002865]\n",
            "Insertion: [0.015426907999426476, 0.03900058599992917, 0.07026622499961377, 0.15945797699987452, 0.3550801790006517, 0.7318713399999979, 1.5999339250001867, 3.417615006000233]\n",
            "Search: [0.4029132079995179, 0.48605569299979834, 0.47829655000077764, 0.6042917159993522, 0.7016972989995338, 0.8170248410006025, 0.9255230910002865, 1.047955385000023]\n",
            "Insertion: [0.015426907999426476, 0.03900058599992917, 0.07026622499961377, 0.15945797699987452, 0.3550801790006517, 0.7318713399999979, 1.5999339250001867, 3.417615006000233, 7.880661983000209]\n",
            "Search: [0.4029132079995179, 0.48605569299979834, 0.47829655000077764, 0.6042917159993522, 0.7016972989995338, 0.8170248410006025, 0.9255230910002865, 1.047955385000023, 1.2415299429994775]\n",
            "Insertion: [0.015426907999426476, 0.03900058599992917, 0.07026622499961377, 0.15945797699987452, 0.3550801790006517, 0.7318713399999979, 1.5999339250001867, 3.417615006000233, 7.880661983000209, 16.646020531999966]\n",
            "Search: [0.4029132079995179, 0.48605569299979834, 0.47829655000077764, 0.6042917159993522, 0.7016972989995338, 0.8170248410006025, 0.9255230910002865, 1.047955385000023, 1.2415299429994775, 1.383768393000537]\n",
            "Insertion: [0.015426907999426476, 0.03900058599992917, 0.07026622499961377, 0.15945797699987452, 0.3550801790006517, 0.7318713399999979, 1.5999339250001867, 3.417615006000233, 7.880661983000209, 16.646020531999966, 34.87037629699989]\n",
            "Search: [0.4029132079995179, 0.48605569299979834, 0.47829655000077764, 0.6042917159993522, 0.7016972989995338, 0.8170248410006025, 0.9255230910002865, 1.047955385000023, 1.2415299429994775, 1.383768393000537, 1.4555878040000607]\n",
            "Insertion: [0.015426907999426476, 0.03900058599992917, 0.07026622499961377, 0.15945797699987452, 0.3550801790006517, 0.7318713399999979, 1.5999339250001867, 3.417615006000233, 7.880661983000209, 16.646020531999966, 34.87037629699989, 78.21176222600025]\n",
            "Search: [0.4029132079995179, 0.48605569299979834, 0.47829655000077764, 0.6042917159993522, 0.7016972989995338, 0.8170248410006025, 0.9255230910002865, 1.047955385000023, 1.2415299429994775, 1.383768393000537, 1.4555878040000607, 1.5702693269995507]\n",
            "Insertion: [0.015426907999426476, 0.03900058599992917, 0.07026622499961377, 0.15945797699987452, 0.3550801790006517, 0.7318713399999979, 1.5999339250001867, 3.417615006000233, 7.880661983000209, 16.646020531999966, 34.87037629699989, 78.21176222600025, 162.1653033419998]\n",
            "Search: [0.4029132079995179, 0.48605569299979834, 0.47829655000077764, 0.6042917159993522, 0.7016972989995338, 0.8170248410006025, 0.9255230910002865, 1.047955385000023, 1.2415299429994775, 1.383768393000537, 1.4555878040000607, 1.5702693269995507, 1.7573300249996464]\n",
            "Insertion: [0.015426907999426476, 0.03900058599992917, 0.07026622499961377, 0.15945797699987452, 0.3550801790006517, 0.7318713399999979, 1.5999339250001867, 3.417615006000233, 7.880661983000209, 16.646020531999966, 34.87037629699989, 78.21176222600025, 162.1653033419998, 343.70393793399944]\n",
            "Search: [0.4029132079995179, 0.48605569299979834, 0.47829655000077764, 0.6042917159993522, 0.7016972989995338, 0.8170248410006025, 0.9255230910002865, 1.047955385000023, 1.2415299429994775, 1.383768393000537, 1.4555878040000607, 1.5702693269995507, 1.7573300249996464, 1.8030210819997592]\n",
            "Insertion: [0.015426907999426476, 0.03900058599992917, 0.07026622499961377, 0.15945797699987452, 0.3550801790006517, 0.7318713399999979, 1.5999339250001867, 3.417615006000233, 7.880661983000209, 16.646020531999966, 34.87037629699989, 78.21176222600025, 162.1653033419998, 343.70393793399944, 733.7575794909999]\n",
            "Search: [0.4029132079995179, 0.48605569299979834, 0.47829655000077764, 0.6042917159993522, 0.7016972989995338, 0.8170248410006025, 0.9255230910002865, 1.047955385000023, 1.2415299429994775, 1.383768393000537, 1.4555878040000607, 1.5702693269995507, 1.7573300249996464, 1.8030210819997592, 1.9849246639996636]\n"
          ]
        }
      ]
    },
    {
      "cell_type": "code",
      "metadata": {
        "id": "0OU4aZjDr01j"
      },
      "source": [
        "Insertion: [0.015426907999426476, 0.03900058599992917, 0.07026622499961377, 0.15945797699987452, 0.3550801790006517, 0.7318713399999979, 1.5999339250001867, 3.417615006000233, 7.880661983000209, 16.646020531999966, 34.87037629699989, 78.21176222600025, 162.1653033419998, 343.70393793399944, 733.7575794909999]\n",
        "Search: [0.4029132079995179, 0.48605569299979834, 0.47829655000077764, 0.6042917159993522, 0.7016972989995338, 0.8170248410006025, 0.9255230910002865, 1.047955385000023, 1.2415299429994775, 1.383768393000537, 1.4555878040000607, 1.5702693269995507, 1.7573300249996464, 1.8030210819997592, 1.9849246639996636]"
      ],
      "execution_count": null,
      "outputs": []
    },
    {
      "cell_type": "markdown",
      "metadata": {
        "id": "vKDVOqOVSxtx"
      },
      "source": [
        "##Sorted Array"
      ]
    },
    {
      "cell_type": "code",
      "metadata": {
        "colab": {
          "base_uri": "https://localhost:8080/"
        },
        "id": "kD1N7Y0aWMt_",
        "outputId": "2dba9b48-1fa7-4fd2-e5a7-aba2a0213e75"
      },
      "source": [
        "import sys\n",
        "print(sys.getrecursionlimit())\n",
        "sys.setrecursionlimit(10000)\n",
        "print(sys.getrecursionlimit())"
      ],
      "execution_count": null,
      "outputs": [
        {
          "output_type": "stream",
          "name": "stdout",
          "text": [
            "10000\n",
            "10000\n"
          ]
        }
      ]
    },
    {
      "cell_type": "code",
      "metadata": {
        "id": "uur-jXIITZlT"
      },
      "source": [
        "def sorted_arr_generation(i):\n",
        "  arr = np.random.randint(2**30+1,size=(2**i))\n",
        "  sorted_arr = np.sort(arr)\n",
        "  # print(sorted_arr)\n",
        "  return sorted_arr\n",
        "\n",
        "def binary_search(arr, low, high, x):\n",
        " \n",
        "    # Check base case\n",
        "    if high >= low:\n",
        " \n",
        "        mid = (high + low) // 2\n",
        " \n",
        "        # If element is present at the middle itself\n",
        "        if arr[mid] == x:\n",
        "            return mid\n",
        " \n",
        "        # If element is smaller than mid, then it can only\n",
        "        # be present in left subarray\n",
        "        elif arr[mid] > x:\n",
        "            return binary_search(arr, low, mid - 1, x)\n",
        " \n",
        "        # Else the element can only be present in right subarray\n",
        "        else:\n",
        "            return binary_search(arr, mid + 1, high, x)\n",
        " \n",
        "    else:\n",
        "        # Element is not present in the array\n",
        "        return -1"
      ],
      "execution_count": null,
      "outputs": []
    },
    {
      "cell_type": "code",
      "metadata": {
        "colab": {
          "base_uri": "https://localhost:8080/"
        },
        "id": "heKB7jQLS5t1",
        "outputId": "f10618a5-1b02-45f9-e4c9-1d86697536be"
      },
      "source": [
        "sorted_arr_search_result=[]\n",
        "for i in range(10,31):\n",
        "  result=0\n",
        "  arr = sorted_arr_generation(i)\n",
        "  high=2**i-1\n",
        "  for k in range(100000):\n",
        "    key = randint(1,2**30)\n",
        "    result += timeit.timeit(stmt='binary_search(arr, 0, high, key)', setup='from __main__ import binary_search,arr, high, key', number=1)\n",
        "  sorted_arr_search_result.append(result)\n",
        "  print(sorted_arr_search_result)\n",
        "# df[\"Merge_Sort\"]=result_list  "
      ],
      "execution_count": null,
      "outputs": [
        {
          "output_type": "stream",
          "name": "stdout",
          "text": [
            "[1.2284938151824463]\n",
            "[1.2284938151824463, 1.3671993766220112]\n",
            "[1.2284938151824463, 1.3671993766220112, 1.4338496552882134]\n",
            "[1.2284938151824463, 1.3671993766220112, 1.4338496552882134, 1.5282357115465857]\n",
            "[1.2284938151824463, 1.3671993766220112, 1.4338496552882134, 1.5282357115465857, 1.6715551820379915]\n",
            "[1.2284938151824463, 1.3671993766220112, 1.4338496552882134, 1.5282357115465857, 1.6715551820379915, 1.7822442697106453]\n",
            "[1.2284938151824463, 1.3671993766220112, 1.4338496552882134, 1.5282357115465857, 1.6715551820379915, 1.7822442697106453, 1.8945900236321904]\n",
            "[1.2284938151824463, 1.3671993766220112, 1.4338496552882134, 1.5282357115465857, 1.6715551820379915, 1.7822442697106453, 1.8945900236321904, 2.0054264361788228]\n",
            "[1.2284938151824463, 1.3671993766220112, 1.4338496552882134, 1.5282357115465857, 1.6715551820379915, 1.7822442697106453, 1.8945900236321904, 2.0054264361788228, 2.1207606010320887]\n",
            "[1.2284938151824463, 1.3671993766220112, 1.4338496552882134, 1.5282357115465857, 1.6715551820379915, 1.7822442697106453, 1.8945900236321904, 2.0054264361788228, 2.1207606010320887, 2.219414040351694]\n",
            "[1.2284938151824463, 1.3671993766220112, 1.4338496552882134, 1.5282357115465857, 1.6715551820379915, 1.7822442697106453, 1.8945900236321904, 2.0054264361788228, 2.1207606010320887, 2.219414040351694, 2.4298385391339252]\n",
            "[1.2284938151824463, 1.3671993766220112, 1.4338496552882134, 1.5282357115465857, 1.6715551820379915, 1.7822442697106453, 1.8945900236321904, 2.0054264361788228, 2.1207606010320887, 2.219414040351694, 2.4298385391339252, 2.45432539741887]\n",
            "[1.2284938151824463, 1.3671993766220112, 1.4338496552882134, 1.5282357115465857, 1.6715551820379915, 1.7822442697106453, 1.8945900236321904, 2.0054264361788228, 2.1207606010320887, 2.219414040351694, 2.4298385391339252, 2.45432539741887, 2.5555496182387287]\n",
            "[1.2284938151824463, 1.3671993766220112, 1.4338496552882134, 1.5282357115465857, 1.6715551820379915, 1.7822442697106453, 1.8945900236321904, 2.0054264361788228, 2.1207606010320887, 2.219414040351694, 2.4298385391339252, 2.45432539741887, 2.5555496182387287, 2.660337066688953]\n",
            "[1.2284938151824463, 1.3671993766220112, 1.4338496552882134, 1.5282357115465857, 1.6715551820379915, 1.7822442697106453, 1.8945900236321904, 2.0054264361788228, 2.1207606010320887, 2.219414040351694, 2.4298385391339252, 2.45432539741887, 2.5555496182387287, 2.660337066688953, 2.7353577035974013]\n",
            "[1.2284938151824463, 1.3671993766220112, 1.4338496552882134, 1.5282357115465857, 1.6715551820379915, 1.7822442697106453, 1.8945900236321904, 2.0054264361788228, 2.1207606010320887, 2.219414040351694, 2.4298385391339252, 2.45432539741887, 2.5555496182387287, 2.660337066688953, 2.7353577035974013, 2.9066752710132278]\n",
            "[1.2284938151824463, 1.3671993766220112, 1.4338496552882134, 1.5282357115465857, 1.6715551820379915, 1.7822442697106453, 1.8945900236321904, 2.0054264361788228, 2.1207606010320887, 2.219414040351694, 2.4298385391339252, 2.45432539741887, 2.5555496182387287, 2.660337066688953, 2.7353577035974013, 2.9066752710132278, 3.070480190581293]\n",
            "[1.2284938151824463, 1.3671993766220112, 1.4338496552882134, 1.5282357115465857, 1.6715551820379915, 1.7822442697106453, 1.8945900236321904, 2.0054264361788228, 2.1207606010320887, 2.219414040351694, 2.4298385391339252, 2.45432539741887, 2.5555496182387287, 2.660337066688953, 2.7353577035974013, 2.9066752710132278, 3.070480190581293, 3.156345647352282]\n",
            "[1.2284938151824463, 1.3671993766220112, 1.4338496552882134, 1.5282357115465857, 1.6715551820379915, 1.7822442697106453, 1.8945900236321904, 2.0054264361788228, 2.1207606010320887, 2.219414040351694, 2.4298385391339252, 2.45432539741887, 2.5555496182387287, 2.660337066688953, 2.7353577035974013, 2.9066752710132278, 3.070480190581293, 3.156345647352282, 3.252424827474897]\n",
            "[1.2284938151824463, 1.3671993766220112, 1.4338496552882134, 1.5282357115465857, 1.6715551820379915, 1.7822442697106453, 1.8945900236321904, 2.0054264361788228, 2.1207606010320887, 2.219414040351694, 2.4298385391339252, 2.45432539741887, 2.5555496182387287, 2.660337066688953, 2.7353577035974013, 2.9066752710132278, 3.070480190581293, 3.156345647352282, 3.252424827474897, 3.3022113460356195]\n"
          ]
        }
      ]
    },
    {
      "cell_type": "markdown",
      "metadata": {
        "id": "xVEHnKKmUKCS"
      },
      "source": [
        "##Result"
      ]
    },
    {
      "cell_type": "code",
      "metadata": {
        "id": "0q0iO0KjUMZq"
      },
      "source": [
        "skip_search_result = [0.24715227900014725, 0.24988021399985882, 0.24469278600008693, 0.24673226900085865, 0.2441442780000216, 0.24888674400062882, 0.26855766999869957, 0.2906180080008198, 0.3268199129997811, 0.43273116299860703, 0.714413080999293, 1.1435030840002582, 2.691879064001114, 5.148846267000408, 13.046779455999058]\n",
        "skip_pnt_one_search_result = [0.2611299260000237, 0.2569890139999984, 0.2508762659999775, 0.26029184000003625, 0.24357270799998787, 0.2615561009999965, 0.2621874590000175, 0.287836120999998, 0.3388233790000186, 0.4451202430000194, 0.6351797080000097, 1.11277996299998, 2.088474318000067, 4.452123919999849, 10.91431026600003]\n",
        "skip_pnt_nine_search_result = [0.25072851299999854, 0.2385539019999996, 0.2837511520000007, 0.2353501700000038, 0.24589508400000426, 0.25432535099999853, 0.2608473800000013, 0.2887950810000035, 0.3426358579999942, 0.41815218899999707, 0.624792694000007, 1.0826206160000424, 1.9653005090000306, 4.3548487080001905, 10.639479040999959]\n",
        "treap = [0.4029132079995179, 0.48605569299979834, 0.47829655000077764, 0.6042917159993522, 0.7016972989995338, 0.8170248410006025, 0.9255230910002865, 1.047955385000023, 1.2415299429994775, 1.383768393000537, 1.4555878040000607, 1.5702693269995507, 1.7573300249996464, 1.8030210819997592, 1.9849246639996636]\n",
        "sorted_arr=[1.2284938151824463, 1.3671993766220112, 1.4338496552882134, 1.5282357115465857, 1.6715551820379915, 1.7822442697106453, 1.8945900236321904, 2.0054264361788228, 2.1207606010320887, 2.219414040351694, 2.4298385391339252, 2.45432539741887, 2.5555496182387287, 2.660337066688953, 2.7353577035974013, 2.9066752710132278, 3.070480190581293, 3.156345647352282, 3.252424827474897, 3.3022113460356195]"
      ],
      "execution_count": null,
      "outputs": []
    },
    {
      "cell_type": "code",
      "metadata": {
        "colab": {
          "base_uri": "https://localhost:8080/"
        },
        "id": "HvrFnYQLLWp5",
        "outputId": "beb23f35-7a6d-49a1-c9d9-3fa04f5afd7a"
      },
      "source": [
        "print(\"Assumption for search\")\n",
        "sum=0.0\n",
        "for i in range(len(sorted_arr)-1):\n",
        "  sum+=sorted_arr[i+1]/sorted_arr[i]\n",
        "sorted_average = sum/(len(sorted_arr)-1)\n",
        "print(f\"sorted_arr: {sorted_average}\")\n",
        "\n",
        "sum=0.0\n",
        "for i in range(len(treap)-1):\n",
        "  sum+=treap[i+1]/treap[i]\n",
        "treap_average = sum/(len(treap)-1)\n",
        "print(f\"treap: {treap_average}\")\n",
        "\n",
        "sum=0\n",
        "for i in range(len(skip_search_result)-1):\n",
        "  sum+=skip_search_result[i+1]/skip_search_result[i]\n",
        "sl_average = sum/(len(skip_search_result)-1)\n",
        "print(f\"skip p=0.5: {sl_average}\")\n",
        "\n",
        "sum=0\n",
        "for i in range(len(skip_pnt_one_search_result)-1):\n",
        "  sum+=skip_pnt_one_search_result[i+1]/skip_pnt_one_search_result[i]\n",
        "sl_one_average = sum/(len(skip_pnt_one_search_result)-1)\n",
        "print(f\"skip p=0.1: {sl_one_average}\")\n",
        "\n",
        "sum=0\n",
        "for i in range(len(skip_pnt_nine_search_result)-1):\n",
        "  sum+=skip_pnt_nine_search_result[i+1]/skip_pnt_nine_search_result[i]\n",
        "sl_nine_average = sum/(len(skip_pnt_nine_search_result)-1)\n",
        "print(f\"skip p=0.9:: {sl_nine_average}\")"
      ],
      "execution_count": null,
      "outputs": [
        {
          "output_type": "stream",
          "name": "stdout",
          "text": [
            "Assumption for search\n",
            "sorted_arr: 1.0537412310528744\n",
            "treap: 1.1228876785789978\n",
            "skip p=0.5: 1.4049743582703684\n",
            "skip p=0.1: 1.374109892734898\n",
            "skip p=0.9:: 1.3778786713483555\n"
          ]
        }
      ]
    },
    {
      "cell_type": "code",
      "metadata": {
        "id": "zdSZxKV9--N0"
      },
      "source": [
        "while(len(skip_search_result)!=21):\n",
        "  skip_search_result.append(skip_search_result[len(skip_search_result)-1]*sl_average)\n",
        "\n",
        "while(len(skip_pnt_one_search_result)!=21):\n",
        "  skip_pnt_one_search_result.append(skip_pnt_one_search_result[len(skip_pnt_one_search_result)-1]*sl_one_average)\n",
        "\n",
        "while(len(skip_pnt_nine_search_result)!=21):\n",
        "  skip_pnt_nine_search_result.append(skip_pnt_nine_search_result[len(skip_pnt_nine_search_result)-1]*sl_nine_average)\n",
        "\n",
        "while(len(treap)!=21):\n",
        "  treap.append(treap[len(treap)-1]*treap_average)\n",
        "\n",
        "while(len(sorted_arr)!=21):\n",
        "  sorted_arr.append(sorted_arr[len(sorted_arr)-1]*sorted_average)\n"
      ],
      "execution_count": null,
      "outputs": []
    },
    {
      "cell_type": "code",
      "metadata": {
        "colab": {
          "base_uri": "https://localhost:8080/",
          "height": 312
        },
        "id": "9f-sNy4l--UV",
        "outputId": "763441bf-b1ce-4e43-91b8-ffa013f92b36"
      },
      "source": [
        "search_df = pd.DataFrame({\n",
        "    'skip list p=0.5':skip_search_result,\n",
        "    'skip list p=0.1':skip_pnt_one_search_result,\n",
        "    'skip list p=0.9':skip_pnt_nine_search_result,\n",
        "    'treap':treap,\n",
        "    'sorted array':sorted_arr\n",
        "})\n",
        "search_df.index = np.arange(10, len(search_df)+10)\n",
        "search_df.plot(xlabel='2^k', ylabel='Time complexity', title='Search')"
      ],
      "execution_count": null,
      "outputs": [
        {
          "output_type": "execute_result",
          "data": {
            "text/plain": [
              "<matplotlib.axes._subplots.AxesSubplot at 0x7f556a712550>"
            ]
          },
          "metadata": {},
          "execution_count": 32
        },
        {
          "output_type": "display_data",
          "data": {
            "image/png": "[encoded data removed]",
            "text/plain": [
              "<Figure size 432x288 with 1 Axes>"
            ]
          },
          "metadata": {
            "needs_background": "light"
          }
        }
      ]
    },
    {
      "cell_type": "code",
      "metadata": {
        "colab": {
          "base_uri": "https://localhost:8080/",
          "height": 708
        },
        "id": "m-FK6Zi9_5IQ",
        "outputId": "2b37e48a-2c04-408e-eebf-9a48115d5cfb"
      },
      "source": [
        "search_df"
      ],
      "execution_count": null,
      "outputs": [
        {
          "output_type": "execute_result",
          "data": {
            "text/html": [
              "<div>\n",
              "<style scoped>\n",
              "    .dataframe tbody tr th:only-of-type {\n",
              "        vertical-align: middle;\n",
              "    }\n",
              "\n",
              "    .dataframe tbody tr th {\n",
              "        vertical-align: top;\n",
              "    }\n",
              "\n",
              "    .dataframe thead th {\n",
              "        text-align: right;\n",
              "    }\n",
              "</style>\n",
              "<table border=\"1\" class=\"dataframe\">\n",
              "  <thead>\n",
              "    <tr style=\"text-align: right;\">\n",
              "      <th></th>\n",
              "      <th>skip list p=0.5</th>\n",
              "      <th>skip list p=0.1</th>\n",
              "      <th>skip list p=0.9</th>\n",
              "      <th>treap</th>\n",
              "      <th>sorted array</th>\n",
              "    </tr>\n",
              "  </thead>\n",
              "  <tbody>\n",
              "    <tr>\n",
              "      <th>10</th>\n",
              "      <td>0.247152</td>\n",
              "      <td>0.261130</td>\n",
              "      <td>0.250729</td>\n",
              "      <td>0.402913</td>\n",
              "      <td>1.228494</td>\n",
              "    </tr>\n",
              "    <tr>\n",
              "      <th>11</th>\n",
              "      <td>0.249880</td>\n",
              "      <td>0.256989</td>\n",
              "      <td>0.238554</td>\n",
              "      <td>0.486056</td>\n",
              "      <td>1.367199</td>\n",
              "    </tr>\n",
              "    <tr>\n",
              "      <th>12</th>\n",
              "      <td>0.244693</td>\n",
              "      <td>0.250876</td>\n",
              "      <td>0.283751</td>\n",
              "      <td>0.478297</td>\n",
              "      <td>1.433850</td>\n",
              "    </tr>\n",
              "    <tr>\n",
              "      <th>13</th>\n",
              "      <td>0.246732</td>\n",
              "      <td>0.260292</td>\n",
              "      <td>0.235350</td>\n",
              "      <td>0.604292</td>\n",
              "      <td>1.528236</td>\n",
              "    </tr>\n",
              "    <tr>\n",
              "      <th>14</th>\n",
              "      <td>0.244144</td>\n",
              "      <td>0.243573</td>\n",
              "      <td>0.245895</td>\n",
              "      <td>0.701697</td>\n",
              "      <td>1.671555</td>\n",
              "    </tr>\n",
              "    <tr>\n",
              "      <th>15</th>\n",
              "      <td>0.248887</td>\n",
              "      <td>0.261556</td>\n",
              "      <td>0.254325</td>\n",
              "      <td>0.817025</td>\n",
              "      <td>1.782244</td>\n",
              "    </tr>\n",
              "    <tr>\n",
              "      <th>16</th>\n",
              "      <td>0.268558</td>\n",
              "      <td>0.262187</td>\n",
              "      <td>0.260847</td>\n",
              "      <td>0.925523</td>\n",
              "      <td>1.894590</td>\n",
              "    </tr>\n",
              "    <tr>\n",
              "      <th>17</th>\n",
              "      <td>0.290618</td>\n",
              "      <td>0.287836</td>\n",
              "      <td>0.288795</td>\n",
              "      <td>1.047955</td>\n",
              "      <td>2.005426</td>\n",
              "    </tr>\n",
              "    <tr>\n",
              "      <th>18</th>\n",
              "      <td>0.326820</td>\n",
              "      <td>0.338823</td>\n",
              "      <td>0.342636</td>\n",
              "      <td>1.241530</td>\n",
              "      <td>2.120761</td>\n",
              "    </tr>\n",
              "    <tr>\n",
              "      <th>19</th>\n",
              "      <td>0.432731</td>\n",
              "      <td>0.445120</td>\n",
              "      <td>0.418152</td>\n",
              "      <td>1.383768</td>\n",
              "      <td>2.219414</td>\n",
              "    </tr>\n",
              "    <tr>\n",
              "      <th>20</th>\n",
              "      <td>0.714413</td>\n",
              "      <td>0.635180</td>\n",
              "      <td>0.624793</td>\n",
              "      <td>1.455588</td>\n",
              "      <td>2.429839</td>\n",
              "    </tr>\n",
              "    <tr>\n",
              "      <th>21</th>\n",
              "      <td>1.143503</td>\n",
              "      <td>1.112780</td>\n",
              "      <td>1.082621</td>\n",
              "      <td>1.570269</td>\n",
              "      <td>2.454325</td>\n",
              "    </tr>\n",
              "    <tr>\n",
              "      <th>22</th>\n",
              "      <td>2.691879</td>\n",
              "      <td>2.088474</td>\n",
              "      <td>1.965301</td>\n",
              "      <td>1.757330</td>\n",
              "      <td>2.555550</td>\n",
              "    </tr>\n",
              "    <tr>\n",
              "      <th>23</th>\n",
              "      <td>5.148846</td>\n",
              "      <td>4.452124</td>\n",
              "      <td>4.354849</td>\n",
              "      <td>1.803021</td>\n",
              "      <td>2.660337</td>\n",
              "    </tr>\n",
              "    <tr>\n",
              "      <th>24</th>\n",
              "      <td>13.046779</td>\n",
              "      <td>10.914310</td>\n",
              "      <td>10.639479</td>\n",
              "      <td>1.984925</td>\n",
              "      <td>2.735358</td>\n",
              "    </tr>\n",
              "    <tr>\n",
              "      <th>25</th>\n",
              "      <td>18.330391</td>\n",
              "      <td>14.997462</td>\n",
              "      <td>14.659911</td>\n",
              "      <td>2.228847</td>\n",
              "      <td>2.906675</td>\n",
              "    </tr>\n",
              "    <tr>\n",
              "      <th>26</th>\n",
              "      <td>25.753729</td>\n",
              "      <td>20.608161</td>\n",
              "      <td>20.199579</td>\n",
              "      <td>2.502745</td>\n",
              "      <td>3.070480</td>\n",
              "    </tr>\n",
              "    <tr>\n",
              "      <th>27</th>\n",
              "      <td>36.183329</td>\n",
              "      <td>28.317877</td>\n",
              "      <td>27.832569</td>\n",
              "      <td>2.810302</td>\n",
              "      <td>3.156346</td>\n",
              "    </tr>\n",
              "    <tr>\n",
              "      <th>28</th>\n",
              "      <td>50.836649</td>\n",
              "      <td>38.911875</td>\n",
              "      <td>38.349903</td>\n",
              "      <td>3.155653</td>\n",
              "      <td>3.252425</td>\n",
              "    </tr>\n",
              "    <tr>\n",
              "      <th>29</th>\n",
              "      <td>71.424188</td>\n",
              "      <td>53.469193</td>\n",
              "      <td>52.841514</td>\n",
              "      <td>3.543444</td>\n",
              "      <td>3.302211</td>\n",
              "    </tr>\n",
              "    <tr>\n",
              "      <th>30</th>\n",
              "      <td>100.349153</td>\n",
              "      <td>73.472547</td>\n",
              "      <td>72.809195</td>\n",
              "      <td>3.978890</td>\n",
              "      <td>3.479676</td>\n",
              "    </tr>\n",
              "  </tbody>\n",
              "</table>\n",
              "</div>"
            ],
            "text/plain": [
              "    skip list p=0.5  skip list p=0.1  skip list p=0.9     treap  sorted array\n",
              "10         0.247152         0.261130         0.250729  0.402913      1.228494\n",
              "11         0.249880         0.256989         0.238554  0.486056      1.367199\n",
              "12         0.244693         0.250876         0.283751  0.478297      1.433850\n",
              "13         0.246732         0.260292         0.235350  0.604292      1.528236\n",
              "14         0.244144         0.243573         0.245895  0.701697      1.671555\n",
              "15         0.248887         0.261556         0.254325  0.817025      1.782244\n",
              "16         0.268558         0.262187         0.260847  0.925523      1.894590\n",
              "17         0.290618         0.287836         0.288795  1.047955      2.005426\n",
              "18         0.326820         0.338823         0.342636  1.241530      2.120761\n",
              "19         0.432731         0.445120         0.418152  1.383768      2.219414\n",
              "20         0.714413         0.635180         0.624793  1.455588      2.429839\n",
              "21         1.143503         1.112780         1.082621  1.570269      2.454325\n",
              "22         2.691879         2.088474         1.965301  1.757330      2.555550\n",
              "23         5.148846         4.452124         4.354849  1.803021      2.660337\n",
              "24        13.046779        10.914310        10.639479  1.984925      2.735358\n",
              "25        18.330391        14.997462        14.659911  2.228847      2.906675\n",
              "26        25.753729        20.608161        20.199579  2.502745      3.070480\n",
              "27        36.183329        28.317877        27.832569  2.810302      3.156346\n",
              "28        50.836649        38.911875        38.349903  3.155653      3.252425\n",
              "29        71.424188        53.469193        52.841514  3.543444      3.302211\n",
              "30       100.349153        73.472547        72.809195  3.978890      3.479676"
            ]
          },
          "metadata": {},
          "execution_count": 33
        }
      ]
    },
    {
      "cell_type": "code",
      "metadata": {
        "id": "8uqUwLCAKtTF"
      },
      "source": [
        "search_df.to_csv(\"search_result.dat\",sep=\"|\")"
      ],
      "execution_count": null,
      "outputs": []
    },
    {
      "cell_type": "markdown",
      "metadata": {
        "id": "076fLEl4ehzL"
      },
      "source": [
        "#3. 三種skip list在不同的n值時，平均每個data的additional copy個數"
      ]
    },
    {
      "cell_type": "markdown",
      "metadata": {
        "id": "6AZ1xWk4SI5e"
      },
      "source": [
        "##Prob=0.5"
      ]
    },
    {
      "cell_type": "code",
      "metadata": {
        "id": "JDYxJgyWei_M"
      },
      "source": [
        "from random import randint, seed\n",
        "\n",
        "class Node:  \n",
        "    def __init__(self, height = 0, elem = None):\n",
        "        self.elem = elem\n",
        "        self.next = [None]*height\n",
        "\n",
        "class SkipList:\n",
        "    def __init__(self):\n",
        "        self.head = Node()\n",
        "        self.len = 0\n",
        "        self.maxHeight = 0\n",
        "\n",
        "    def __len__(self):\n",
        "        return self.len\n",
        "\n",
        "    def find(self, elem, update = None):\n",
        "        if update == None:\n",
        "            update = self.updateList(elem)\n",
        "        if len(update) > 0:\n",
        "            item = update[0].next[0]\n",
        "            if item != None and item.elem == elem:\n",
        "                return item\n",
        "        return None\n",
        "    \n",
        "    def contains(self, elem, update = None):\n",
        "        return self.find(elem, update) != None\n",
        "\n",
        "    def randomHeight(self):\n",
        "        height = 1\n",
        "        while randint(1, 2) != 1:\n",
        "            height += 1\n",
        "        return height\n",
        "\n",
        "    def updateList(self, elem):\n",
        "        update = [None]*self.maxHeight\n",
        "        x = self.head\n",
        "        for i in reversed(range(self.maxHeight)):\n",
        "            while x.next[i] != None and x.next[i].elem < elem:\n",
        "                x = x.next[i]\n",
        "            update[i] = x\n",
        "        return update\n",
        "        \n",
        "    def insert(self, elem):\n",
        "        height = self.randomHeight()\n",
        "        _node = Node(height, elem)\n",
        "\n",
        "        self.maxHeight = max(self.maxHeight, len(_node.next))\n",
        "        while len(self.head.next) < len(_node.next):\n",
        "            self.head.next.append(None)\n",
        "\n",
        "        update = self.updateList(elem)            \n",
        "        if self.find(elem, update) == None:\n",
        "            for i in range(len(_node.next)):\n",
        "                _node.next[i] = update[i].next[i]\n",
        "                update[i].next[i] = _node\n",
        "            self.len += 1\n",
        "        return height\n",
        "\n",
        "    def remove(self, elem):\n",
        "\n",
        "        update = self.updateList(elem)\n",
        "        x = self.find(elem, update)\n",
        "        if x != None:\n",
        "            for i in reversed(range(len(x.next))):\n",
        "                update[i].next[i] = x.next[i]\n",
        "                if self.head.next[i] == None:\n",
        "                    self.maxHeight -= 1\n",
        "            self.len -= 1            \n",
        "                \n",
        "    # def printList(self):\n",
        "    #     for i in range(len(self.head.next)-1, -1, -1):\n",
        "    #         x = self.head\n",
        "    #         while x.next[i] != None:\n",
        "    #             print x.next[i].elem,\n",
        "    #             x = x.next[i]\n",
        "    #         print ''\n",
        "    \n",
        "\n",
        "def skip_list_copy_of_data(i):\n",
        "  height_sum=0\n",
        "  lst = SkipList()\n",
        "  for k in range(2**i+1):\n",
        "    height_sum += lst.insert(randint(1, 2**30+1))\n",
        "  return height_sum, lst.maxHeight"
      ],
      "execution_count": null,
      "outputs": []
    },
    {
      "cell_type": "code",
      "metadata": {
        "colab": {
          "base_uri": "https://localhost:8080/"
        },
        "id": "VlwLJQSGSoUn",
        "outputId": "2407cecb-699a-4672-8766-57a096fb5caf"
      },
      "source": [
        "skip_avg_copy_result=[]\n",
        "skip_max_height_result=[]\n",
        "for i in range(10,31):\n",
        "  total_height, max_height = skip_list_copy_of_data(i)\n",
        "  # result = timeit.timeit(stmt='treap_insertion(i)', setup='from __main__ import treap_insertion,i', number=1)\n",
        "  avg_copy = total_height/(2**i)\n",
        "  skip_avg_copy_result.append(avg_copy)\n",
        "  skip_max_height_result.append(max_height)\n",
        "  print(\"Q3:\",skip_avg_copy_result)\n",
        "  print(\"Q4:\",skip_max_height_result)"
      ],
      "execution_count": null,
      "outputs": [
        {
          "output_type": "stream",
          "name": "stdout",
          "text": [
            "Q3: [2.044921875]\n",
            "Q4: [12]\n",
            "Q3: [2.044921875, 1.98828125]\n",
            "Q4: [12, 15]\n",
            "Q3: [2.044921875, 1.98828125, 1.97265625]\n",
            "Q4: [12, 15, 16]\n",
            "Q3: [2.044921875, 1.98828125, 1.97265625, 2.01806640625]\n",
            "Q4: [12, 15, 16, 20]\n",
            "Q3: [2.044921875, 1.98828125, 1.97265625, 2.01806640625, 1.99371337890625]\n",
            "Q4: [12, 15, 16, 20, 16]\n",
            "Q3: [2.044921875, 1.98828125, 1.97265625, 2.01806640625, 1.99371337890625, 2.002471923828125]\n",
            "Q4: [12, 15, 16, 20, 16, 17]\n",
            "Q3: [2.044921875, 1.98828125, 1.97265625, 2.01806640625, 1.99371337890625, 2.002471923828125, 1.991455078125]\n",
            "Q4: [12, 15, 16, 20, 16, 17, 16]\n",
            "Q3: [2.044921875, 1.98828125, 1.97265625, 2.01806640625, 1.99371337890625, 2.002471923828125, 1.991455078125, 2.00177001953125]\n",
            "Q4: [12, 15, 16, 20, 16, 17, 16, 18]\n",
            "Q3: [2.044921875, 1.98828125, 1.97265625, 2.01806640625, 1.99371337890625, 2.002471923828125, 1.991455078125, 2.00177001953125, 1.9997901916503906]\n",
            "Q4: [12, 15, 16, 20, 16, 17, 16, 18, 19]\n",
            "Q3: [2.044921875, 1.98828125, 1.97265625, 2.01806640625, 1.99371337890625, 2.002471923828125, 1.991455078125, 2.00177001953125, 1.9997901916503906, 2.0000839233398438]\n",
            "Q4: [12, 15, 16, 20, 16, 17, 16, 18, 19, 22]\n",
            "Q3: [2.044921875, 1.98828125, 1.97265625, 2.01806640625, 1.99371337890625, 2.002471923828125, 1.991455078125, 2.00177001953125, 1.9997901916503906, 2.0000839233398438, 1.9997472763061523]\n",
            "Q4: [12, 15, 16, 20, 16, 17, 16, 18, 19, 22, 21]\n",
            "Q3: [2.044921875, 1.98828125, 1.97265625, 2.01806640625, 1.99371337890625, 2.002471923828125, 1.991455078125, 2.00177001953125, 1.9997901916503906, 2.0000839233398438, 1.9997472763061523, 1.9996047019958496]\n",
            "Q4: [12, 15, 16, 20, 16, 17, 16, 18, 19, 22, 21, 20]\n",
            "Q3: [2.044921875, 1.98828125, 1.97265625, 2.01806640625, 1.99371337890625, 2.002471923828125, 1.991455078125, 2.00177001953125, 1.9997901916503906, 2.0000839233398438, 1.9997472763061523, 1.9996047019958496, 1.9991464614868164]\n",
            "Q4: [12, 15, 16, 20, 16, 17, 16, 18, 19, 22, 21, 20, 21]\n",
            "Q3: [2.044921875, 1.98828125, 1.97265625, 2.01806640625, 1.99371337890625, 2.002471923828125, 1.991455078125, 2.00177001953125, 1.9997901916503906, 2.0000839233398438, 1.9997472763061523, 1.9996047019958496, 1.9991464614868164, 2.000252366065979]\n",
            "Q4: [12, 15, 16, 20, 16, 17, 16, 18, 19, 22, 21, 20, 21, 23]\n",
            "Q3: [2.044921875, 1.98828125, 1.97265625, 2.01806640625, 1.99371337890625, 2.002471923828125, 1.991455078125, 2.00177001953125, 1.9997901916503906, 2.0000839233398438, 1.9997472763061523, 1.9996047019958496, 1.9991464614868164, 2.000252366065979, 1.9994829297065735]\n",
            "Q4: [12, 15, 16, 20, 16, 17, 16, 18, 19, 22, 21, 20, 21, 23, 25]\n"
          ]
        }
      ]
    },
    {
      "cell_type": "markdown",
      "metadata": {
        "id": "LmyDna-AUOx3"
      },
      "source": [
        "##Prob=0.1"
      ]
    },
    {
      "cell_type": "code",
      "metadata": {
        "id": "iWlJvL3RUQmy"
      },
      "source": [
        "from random import randint, seed\n",
        "\n",
        "class Node:  \n",
        "    def __init__(self, height = 0, elem = None):\n",
        "        self.elem = elem\n",
        "        self.next = [None]*height\n",
        "\n",
        "class SkipList:\n",
        "    def __init__(self):\n",
        "        self.head = Node()\n",
        "        self.len = 0\n",
        "        self.maxHeight = 0\n",
        "\n",
        "    def __len__(self):\n",
        "        return self.len\n",
        "\n",
        "    def find(self, elem, update = None):\n",
        "        if update == None:\n",
        "            update = self.updateList(elem)\n",
        "        if len(update) > 0:\n",
        "            item = update[0].next[0]\n",
        "            if item != None and item.elem == elem:\n",
        "                return item\n",
        "        return None\n",
        "    \n",
        "    def contains(self, elem, update = None):\n",
        "        return self.find(elem, update) != None\n",
        "\n",
        "    def randomHeight(self):\n",
        "        height = 1\n",
        "        #probability of head is 0.1 (1/10)\n",
        "        while randint(1, 11) == 1:\n",
        "            height += 1\n",
        "        return height\n",
        "\n",
        "    def updateList(self, elem):\n",
        "        update = [None]*self.maxHeight\n",
        "        x = self.head\n",
        "        for i in reversed(range(self.maxHeight)):\n",
        "            while x.next[i] != None and x.next[i].elem < elem:\n",
        "                x = x.next[i]\n",
        "            update[i] = x\n",
        "        return update\n",
        "        \n",
        "    def insert(self, elem):\n",
        "\n",
        "        height = self.randomHeight()\n",
        "        _node = Node(height, elem)\n",
        "\n",
        "        self.maxHeight = max(self.maxHeight, len(_node.next))\n",
        "        while len(self.head.next) < len(_node.next):\n",
        "            self.head.next.append(None)\n",
        "\n",
        "        update = self.updateList(elem)            \n",
        "        if self.find(elem, update) == None:\n",
        "            for i in range(len(_node.next)):\n",
        "                _node.next[i] = update[i].next[i]\n",
        "                update[i].next[i] = _node\n",
        "            self.len += 1\n",
        "        return height\n",
        "\n",
        "    def remove(self, elem):\n",
        "\n",
        "        update = self.updateList(elem)\n",
        "        x = self.find(elem, update)\n",
        "        if x != None:\n",
        "            for i in reversed(range(len(x.next))):\n",
        "                update[i].next[i] = x.next[i]\n",
        "                if self.head.next[i] == None:\n",
        "                    self.maxHeight -= 1\n",
        "            self.len -= 1            \n",
        "                \n",
        "    # def printList(self):\n",
        "    #     for i in range(len(self.head.next)-1, -1, -1):\n",
        "    #         x = self.head\n",
        "    #         while x.next[i] != None:\n",
        "    #             print x.next[i].elem,\n",
        "    #             x = x.next[i]\n",
        "    #         print ''\n",
        "    \n",
        "# Driver to test above code\n",
        "def skip_list_copy_of_data(i):\n",
        "  height_sum=0\n",
        "  lst = SkipList()\n",
        "  for k in range(2**i+1):\n",
        "    height_sum += lst.insert(randint(1, 2**30+1))\n",
        "  return height_sum, lst.maxHeight"
      ],
      "execution_count": null,
      "outputs": []
    },
    {
      "cell_type": "code",
      "metadata": {
        "colab": {
          "base_uri": "https://localhost:8080/",
          "height": 909
        },
        "id": "7EvfcwBTWVdU",
        "outputId": "ed88422e-590d-4336-efa2-222ea9e69a34"
      },
      "source": [
        "skip_avg_copy_result=[]\n",
        "skip_max_height_result=[]\n",
        "for i in range(10,31):\n",
        "  total_height, max_height = skip_list_copy_of_data(i)\n",
        "  avg_copy = total_height/(2**i)\n",
        "  skip_avg_copy_result.append(avg_copy)\n",
        "  skip_max_height_result.append(max_height)\n",
        "  print(\"Q3:\",skip_avg_copy_result)\n",
        "  print(\"Q4:\",skip_max_height_result)"
      ],
      "execution_count": null,
      "outputs": [
        {
          "output_type": "stream",
          "name": "stdout",
          "text": [
            "Q3: [1.09765625]\n",
            "Q4: [4]\n",
            "Q3: [1.09765625, 1.10107421875]\n",
            "Q4: [4, 4]\n",
            "Q3: [1.09765625, 1.10107421875, 1.099853515625]\n",
            "Q4: [4, 4, 3]\n",
            "Q3: [1.09765625, 1.10107421875, 1.099853515625, 1.0987548828125]\n",
            "Q4: [4, 4, 3, 6]\n",
            "Q3: [1.09765625, 1.10107421875, 1.099853515625, 1.0987548828125, 1.09783935546875]\n",
            "Q4: [4, 4, 3, 6, 4]\n",
            "Q3: [1.09765625, 1.10107421875, 1.099853515625, 1.0987548828125, 1.09783935546875, 1.09844970703125]\n",
            "Q4: [4, 4, 3, 6, 4, 5]\n",
            "Q3: [1.09765625, 1.10107421875, 1.099853515625, 1.0987548828125, 1.09783935546875, 1.09844970703125, 1.1003875732421875]\n",
            "Q4: [4, 4, 3, 6, 4, 5, 7]\n",
            "Q3: [1.09765625, 1.10107421875, 1.099853515625, 1.0987548828125, 1.09783935546875, 1.09844970703125, 1.1003875732421875, 1.1008834838867188]\n",
            "Q4: [4, 4, 3, 6, 4, 5, 7, 6]\n",
            "Q3: [1.09765625, 1.10107421875, 1.099853515625, 1.0987548828125, 1.09783935546875, 1.09844970703125, 1.1003875732421875, 1.1008834838867188, 1.1006088256835938]\n",
            "Q4: [4, 4, 3, 6, 4, 5, 7, 6, 7]\n",
            "Q3: [1.09765625, 1.10107421875, 1.099853515625, 1.0987548828125, 1.09783935546875, 1.09844970703125, 1.1003875732421875, 1.1008834838867188, 1.1006088256835938, 1.1004581451416016]\n",
            "Q4: [4, 4, 3, 6, 4, 5, 7, 6, 7, 6]\n",
            "Q3: [1.09765625, 1.10107421875, 1.099853515625, 1.0987548828125, 1.09783935546875, 1.09844970703125, 1.1003875732421875, 1.1008834838867188, 1.1006088256835938, 1.1004581451416016, 1.0995550155639648]\n",
            "Q4: [4, 4, 3, 6, 4, 5, 7, 6, 7, 6, 8]\n",
            "Q3: [1.09765625, 1.10107421875, 1.099853515625, 1.0987548828125, 1.09783935546875, 1.09844970703125, 1.1003875732421875, 1.1008834838867188, 1.1006088256835938, 1.1004581451416016, 1.0995550155639648, 1.0998611450195312]\n",
            "Q4: [4, 4, 3, 6, 4, 5, 7, 6, 7, 6, 8, 7]\n",
            "Q3: [1.09765625, 1.10107421875, 1.099853515625, 1.0987548828125, 1.09783935546875, 1.09844970703125, 1.1003875732421875, 1.1008834838867188, 1.1006088256835938, 1.1004581451416016, 1.0995550155639648, 1.0998611450195312, 1.0999431610107422]\n",
            "Q4: [4, 4, 3, 6, 4, 5, 7, 6, 7, 6, 8, 7, 7]\n",
            "Q3: [1.09765625, 1.10107421875, 1.099853515625, 1.0987548828125, 1.09783935546875, 1.09844970703125, 1.1003875732421875, 1.1008834838867188, 1.1006088256835938, 1.1004581451416016, 1.0995550155639648, 1.0998611450195312, 1.0999431610107422, 1.1001684665679932]\n",
            "Q4: [4, 4, 3, 6, 4, 5, 7, 6, 7, 6, 8, 7, 7, 8]\n",
            "Q3: [1.09765625, 1.10107421875, 1.099853515625, 1.0987548828125, 1.09783935546875, 1.09844970703125, 1.1003875732421875, 1.1008834838867188, 1.1006088256835938, 1.1004581451416016, 1.0995550155639648, 1.0998611450195312, 1.0999431610107422, 1.1001684665679932, 1.0999978184700012]\n",
            "Q4: [4, 4, 3, 6, 4, 5, 7, 6, 7, 6, 8, 7, 7, 8, 7]\n"
          ]
        },
        {
          "output_type": "error",
          "ename": "KeyboardInterrupt",
          "evalue": "ignored",
          "traceback": [
            "\u001b[0;31m---------------------------------------------------------------------------\u001b[0m",
            "\u001b[0;31mKeyboardInterrupt\u001b[0m                         Traceback (most recent call last)",
            "\u001b[0;32m<ipython-input-13-ca548c097c7a>\u001b[0m in \u001b[0;36m<module>\u001b[0;34m()\u001b[0m\n\u001b[1;32m      2\u001b[0m \u001b[0mskip_max_height_result\u001b[0m\u001b[0;34m=\u001b[0m\u001b[0;34m[\u001b[0m\u001b[0;34m]\u001b[0m\u001b[0;34m\u001b[0m\u001b[0;34m\u001b[0m\u001b[0m\n\u001b[1;32m      3\u001b[0m \u001b[0;32mfor\u001b[0m \u001b[0mi\u001b[0m \u001b[0;32min\u001b[0m \u001b[0mrange\u001b[0m\u001b[0;34m(\u001b[0m\u001b[0;36m10\u001b[0m\u001b[0;34m,\u001b[0m\u001b[0;36m31\u001b[0m\u001b[0;34m)\u001b[0m\u001b[0;34m:\u001b[0m\u001b[0;34m\u001b[0m\u001b[0;34m\u001b[0m\u001b[0m\n\u001b[0;32m----> 4\u001b[0;31m   \u001b[0mtotal_height\u001b[0m\u001b[0;34m,\u001b[0m \u001b[0mmax_height\u001b[0m \u001b[0;34m=\u001b[0m \u001b[0mskip_list_copy_of_data\u001b[0m\u001b[0;34m(\u001b[0m\u001b[0mi\u001b[0m\u001b[0;34m)\u001b[0m\u001b[0;34m\u001b[0m\u001b[0;34m\u001b[0m\u001b[0m\n\u001b[0m\u001b[1;32m      5\u001b[0m   \u001b[0mavg_copy\u001b[0m \u001b[0;34m=\u001b[0m \u001b[0mtotal_height\u001b[0m\u001b[0;34m/\u001b[0m\u001b[0;34m(\u001b[0m\u001b[0;36m2\u001b[0m\u001b[0;34m**\u001b[0m\u001b[0mi\u001b[0m\u001b[0;34m)\u001b[0m\u001b[0;34m\u001b[0m\u001b[0;34m\u001b[0m\u001b[0m\n\u001b[1;32m      6\u001b[0m   \u001b[0mskip_avg_copy_result\u001b[0m\u001b[0;34m.\u001b[0m\u001b[0mappend\u001b[0m\u001b[0;34m(\u001b[0m\u001b[0mavg_copy\u001b[0m\u001b[0;34m)\u001b[0m\u001b[0;34m\u001b[0m\u001b[0;34m\u001b[0m\u001b[0m\n",
            "\u001b[0;32m<ipython-input-12-5cb20b4d0e8b>\u001b[0m in \u001b[0;36mskip_list_copy_of_data\u001b[0;34m(i)\u001b[0m\n\u001b[1;32m     84\u001b[0m   \u001b[0mlst\u001b[0m \u001b[0;34m=\u001b[0m \u001b[0mSkipList\u001b[0m\u001b[0;34m(\u001b[0m\u001b[0;34m)\u001b[0m\u001b[0;34m\u001b[0m\u001b[0;34m\u001b[0m\u001b[0m\n\u001b[1;32m     85\u001b[0m   \u001b[0;32mfor\u001b[0m \u001b[0mk\u001b[0m \u001b[0;32min\u001b[0m \u001b[0mrange\u001b[0m\u001b[0;34m(\u001b[0m\u001b[0;36m2\u001b[0m\u001b[0;34m**\u001b[0m\u001b[0mi\u001b[0m\u001b[0;34m+\u001b[0m\u001b[0;36m1\u001b[0m\u001b[0;34m)\u001b[0m\u001b[0;34m:\u001b[0m\u001b[0;34m\u001b[0m\u001b[0;34m\u001b[0m\u001b[0m\n\u001b[0;32m---> 86\u001b[0;31m     \u001b[0mheight_sum\u001b[0m \u001b[0;34m+=\u001b[0m \u001b[0mlst\u001b[0m\u001b[0;34m.\u001b[0m\u001b[0minsert\u001b[0m\u001b[0;34m(\u001b[0m\u001b[0mrandint\u001b[0m\u001b[0;34m(\u001b[0m\u001b[0;36m1\u001b[0m\u001b[0;34m,\u001b[0m \u001b[0;36m2\u001b[0m\u001b[0;34m**\u001b[0m\u001b[0;36m30\u001b[0m\u001b[0;34m+\u001b[0m\u001b[0;36m1\u001b[0m\u001b[0;34m)\u001b[0m\u001b[0;34m)\u001b[0m\u001b[0;34m\u001b[0m\u001b[0;34m\u001b[0m\u001b[0m\n\u001b[0m\u001b[1;32m     87\u001b[0m   \u001b[0;32mreturn\u001b[0m \u001b[0mheight_sum\u001b[0m\u001b[0;34m,\u001b[0m \u001b[0mlst\u001b[0m\u001b[0;34m.\u001b[0m\u001b[0mmaxHeight\u001b[0m\u001b[0;34m\u001b[0m\u001b[0;34m\u001b[0m\u001b[0m\n",
            "\u001b[0;32m<ipython-input-12-5cb20b4d0e8b>\u001b[0m in \u001b[0;36minsert\u001b[0;34m(self, elem)\u001b[0m\n\u001b[1;32m     52\u001b[0m             \u001b[0mself\u001b[0m\u001b[0;34m.\u001b[0m\u001b[0mhead\u001b[0m\u001b[0;34m.\u001b[0m\u001b[0mnext\u001b[0m\u001b[0;34m.\u001b[0m\u001b[0mappend\u001b[0m\u001b[0;34m(\u001b[0m\u001b[0;32mNone\u001b[0m\u001b[0;34m)\u001b[0m\u001b[0;34m\u001b[0m\u001b[0;34m\u001b[0m\u001b[0m\n\u001b[1;32m     53\u001b[0m \u001b[0;34m\u001b[0m\u001b[0m\n\u001b[0;32m---> 54\u001b[0;31m         \u001b[0mupdate\u001b[0m \u001b[0;34m=\u001b[0m \u001b[0mself\u001b[0m\u001b[0;34m.\u001b[0m\u001b[0mupdateList\u001b[0m\u001b[0;34m(\u001b[0m\u001b[0melem\u001b[0m\u001b[0;34m)\u001b[0m\u001b[0;34m\u001b[0m\u001b[0;34m\u001b[0m\u001b[0m\n\u001b[0m\u001b[1;32m     55\u001b[0m         \u001b[0;32mif\u001b[0m \u001b[0mself\u001b[0m\u001b[0;34m.\u001b[0m\u001b[0mfind\u001b[0m\u001b[0;34m(\u001b[0m\u001b[0melem\u001b[0m\u001b[0;34m,\u001b[0m \u001b[0mupdate\u001b[0m\u001b[0;34m)\u001b[0m \u001b[0;34m==\u001b[0m \u001b[0;32mNone\u001b[0m\u001b[0;34m:\u001b[0m\u001b[0;34m\u001b[0m\u001b[0;34m\u001b[0m\u001b[0m\n\u001b[1;32m     56\u001b[0m             \u001b[0;32mfor\u001b[0m \u001b[0mi\u001b[0m \u001b[0;32min\u001b[0m \u001b[0mrange\u001b[0m\u001b[0;34m(\u001b[0m\u001b[0mlen\u001b[0m\u001b[0;34m(\u001b[0m\u001b[0m_node\u001b[0m\u001b[0;34m.\u001b[0m\u001b[0mnext\u001b[0m\u001b[0;34m)\u001b[0m\u001b[0;34m)\u001b[0m\u001b[0;34m:\u001b[0m\u001b[0;34m\u001b[0m\u001b[0;34m\u001b[0m\u001b[0m\n",
            "\u001b[0;32m<ipython-input-12-5cb20b4d0e8b>\u001b[0m in \u001b[0;36mupdateList\u001b[0;34m(self, elem)\u001b[0m\n\u001b[1;32m     38\u001b[0m         \u001b[0mx\u001b[0m \u001b[0;34m=\u001b[0m \u001b[0mself\u001b[0m\u001b[0;34m.\u001b[0m\u001b[0mhead\u001b[0m\u001b[0;34m\u001b[0m\u001b[0;34m\u001b[0m\u001b[0m\n\u001b[1;32m     39\u001b[0m         \u001b[0;32mfor\u001b[0m \u001b[0mi\u001b[0m \u001b[0;32min\u001b[0m \u001b[0mreversed\u001b[0m\u001b[0;34m(\u001b[0m\u001b[0mrange\u001b[0m\u001b[0;34m(\u001b[0m\u001b[0mself\u001b[0m\u001b[0;34m.\u001b[0m\u001b[0mmaxHeight\u001b[0m\u001b[0;34m)\u001b[0m\u001b[0;34m)\u001b[0m\u001b[0;34m:\u001b[0m\u001b[0;34m\u001b[0m\u001b[0;34m\u001b[0m\u001b[0m\n\u001b[0;32m---> 40\u001b[0;31m             \u001b[0;32mwhile\u001b[0m \u001b[0mx\u001b[0m\u001b[0;34m.\u001b[0m\u001b[0mnext\u001b[0m\u001b[0;34m[\u001b[0m\u001b[0mi\u001b[0m\u001b[0;34m]\u001b[0m \u001b[0;34m!=\u001b[0m \u001b[0;32mNone\u001b[0m \u001b[0;32mand\u001b[0m \u001b[0mx\u001b[0m\u001b[0;34m.\u001b[0m\u001b[0mnext\u001b[0m\u001b[0;34m[\u001b[0m\u001b[0mi\u001b[0m\u001b[0;34m]\u001b[0m\u001b[0;34m.\u001b[0m\u001b[0melem\u001b[0m \u001b[0;34m<\u001b[0m \u001b[0melem\u001b[0m\u001b[0;34m:\u001b[0m\u001b[0;34m\u001b[0m\u001b[0;34m\u001b[0m\u001b[0m\n\u001b[0m\u001b[1;32m     41\u001b[0m                 \u001b[0mx\u001b[0m \u001b[0;34m=\u001b[0m \u001b[0mx\u001b[0m\u001b[0;34m.\u001b[0m\u001b[0mnext\u001b[0m\u001b[0;34m[\u001b[0m\u001b[0mi\u001b[0m\u001b[0;34m]\u001b[0m\u001b[0;34m\u001b[0m\u001b[0;34m\u001b[0m\u001b[0m\n\u001b[1;32m     42\u001b[0m             \u001b[0mupdate\u001b[0m\u001b[0;34m[\u001b[0m\u001b[0mi\u001b[0m\u001b[0;34m]\u001b[0m \u001b[0;34m=\u001b[0m \u001b[0mx\u001b[0m\u001b[0;34m\u001b[0m\u001b[0;34m\u001b[0m\u001b[0m\n",
            "\u001b[0;31mKeyboardInterrupt\u001b[0m: "
          ]
        }
      ]
    },
    {
      "cell_type": "markdown",
      "metadata": {
        "id": "WklJXZp8XY3l"
      },
      "source": [
        "##Prob=0.9"
      ]
    },
    {
      "cell_type": "code",
      "metadata": {
        "id": "LsIk4Pk_XbS4"
      },
      "source": [
        "from random import randint, seed\n",
        "\n",
        "class Node:  \n",
        "    def __init__(self, height = 0, elem = None):\n",
        "        self.elem = elem\n",
        "        self.next = [None]*height\n",
        "\n",
        "class SkipList:\n",
        "    def __init__(self):\n",
        "        self.head = Node()\n",
        "        self.len = 0\n",
        "        self.maxHeight = 0\n",
        "\n",
        "    def __len__(self):\n",
        "        return self.len\n",
        "\n",
        "    def find(self, elem, update = None):\n",
        "        if update == None:\n",
        "            update = self.updateList(elem)\n",
        "        if len(update) > 0:\n",
        "            item = update[0].next[0]\n",
        "            if item != None and item.elem == elem:\n",
        "                return item\n",
        "        return None\n",
        "    \n",
        "    def contains(self, elem, update = None):\n",
        "        return self.find(elem, update) != None\n",
        "\n",
        "    def randomHeight(self):\n",
        "        height = 1\n",
        "        #probability of head is 0.9 (9/10)\n",
        "        while randint(1, 11) in [1,2,3,4,5,6,7,8,9]:\n",
        "            height += 1\n",
        "        return height\n",
        "\n",
        "    def updateList(self, elem):\n",
        "        update = [None]*self.maxHeight\n",
        "        x = self.head\n",
        "        for i in reversed(range(self.maxHeight)):\n",
        "            while x.next[i] != None and x.next[i].elem < elem:\n",
        "                x = x.next[i]\n",
        "            update[i] = x\n",
        "        return update\n",
        "        \n",
        "    def insert(self, elem):\n",
        "\n",
        "        height = self.randomHeight()\n",
        "        _node = Node(height, elem)\n",
        "\n",
        "        self.maxHeight = max(self.maxHeight, len(_node.next))\n",
        "        while len(self.head.next) < len(_node.next):\n",
        "            self.head.next.append(None)\n",
        "\n",
        "        update = self.updateList(elem)            \n",
        "        if self.find(elem, update) == None:\n",
        "            for i in range(len(_node.next)):\n",
        "                _node.next[i] = update[i].next[i]\n",
        "                update[i].next[i] = _node\n",
        "            self.len += 1\n",
        "        return height\n",
        "\n",
        "    def remove(self, elem):\n",
        "\n",
        "        update = self.updateList(elem)\n",
        "        x = self.find(elem, update)\n",
        "        if x != None:\n",
        "            for i in reversed(range(len(x.next))):\n",
        "                update[i].next[i] = x.next[i]\n",
        "                if self.head.next[i] == None:\n",
        "                    self.maxHeight -= 1\n",
        "            self.len -= 1            \n",
        "                \n",
        "    # def printList(self):\n",
        "    #     for i in range(len(self.head.next)-1, -1, -1):\n",
        "    #         x = self.head\n",
        "    #         while x.next[i] != None:\n",
        "    #             print x.next[i].elem,\n",
        "    #             x = x.next[i]\n",
        "    #         print ''\n",
        "    \n",
        "# Driver to test above code\n",
        "def skip_list_copy_of_data(i):\n",
        "  height_sum=0\n",
        "  lst = SkipList()\n",
        "  for k in range(2**i+1):\n",
        "    height_sum += lst.insert(randint(1, 2**30+1))\n",
        "  return height_sum, lst.maxHeight"
      ],
      "execution_count": null,
      "outputs": []
    },
    {
      "cell_type": "code",
      "metadata": {
        "colab": {
          "base_uri": "https://localhost:8080/"
        },
        "id": "odVpePyWXd0U",
        "outputId": "fac20f97-841a-4ecf-d047-8524be5fd493"
      },
      "source": [
        "skip_avg_copy_result=[]\n",
        "skip_max_height_result=[]\n",
        "for i in range(10,31):\n",
        "  total_height, max_height = skip_list_copy_of_data(i)\n",
        "  avg_copy = total_height/(2**i)\n",
        "  skip_avg_copy_result.append(avg_copy)\n",
        "  skip_max_height_result.append(max_height)\n",
        "  print(\"Q3:\",skip_avg_copy_result)\n",
        "  print(\"Q4:\",skip_max_height_result)"
      ],
      "execution_count": null,
      "outputs": [
        {
          "output_type": "stream",
          "name": "stdout",
          "text": [
            "Q3: [5.361328125]\n",
            "Q4: [34]\n",
            "Q3: [5.361328125, 5.52685546875]\n",
            "Q4: [34, 37]\n",
            "Q3: [5.361328125, 5.52685546875, 5.483154296875]\n",
            "Q4: [34, 37, 51]\n",
            "Q3: [5.361328125, 5.52685546875, 5.483154296875, 5.54443359375]\n",
            "Q4: [34, 37, 51, 49]\n",
            "Q3: [5.361328125, 5.52685546875, 5.483154296875, 5.54443359375, 5.49041748046875]\n",
            "Q4: [34, 37, 51, 49, 45]\n",
            "Q3: [5.361328125, 5.52685546875, 5.483154296875, 5.54443359375, 5.49041748046875, 5.5069580078125]\n",
            "Q4: [34, 37, 51, 49, 45, 53]\n",
            "Q3: [5.361328125, 5.52685546875, 5.483154296875, 5.54443359375, 5.49041748046875, 5.5069580078125, 5.542022705078125]\n",
            "Q4: [34, 37, 51, 49, 45, 53, 62]\n",
            "Q3: [5.361328125, 5.52685546875, 5.483154296875, 5.54443359375, 5.49041748046875, 5.5069580078125, 5.542022705078125, 5.510101318359375]\n",
            "Q4: [34, 37, 51, 49, 45, 53, 62, 58]\n",
            "Q3: [5.361328125, 5.52685546875, 5.483154296875, 5.54443359375, 5.49041748046875, 5.5069580078125, 5.542022705078125, 5.510101318359375, 5.502494812011719]\n",
            "Q4: [34, 37, 51, 49, 45, 53, 62, 58, 67]\n",
            "Q3: [5.361328125, 5.52685546875, 5.483154296875, 5.54443359375, 5.49041748046875, 5.5069580078125, 5.542022705078125, 5.510101318359375, 5.502494812011719, 5.499614715576172]\n",
            "Q4: [34, 37, 51, 49, 45, 53, 62, 58, 67, 59]\n",
            "Q3: [5.361328125, 5.52685546875, 5.483154296875, 5.54443359375, 5.49041748046875, 5.5069580078125, 5.542022705078125, 5.510101318359375, 5.502494812011719, 5.499614715576172, 5.4984893798828125]\n",
            "Q4: [34, 37, 51, 49, 45, 53, 62, 58, 67, 59, 80]\n",
            "Q3: [5.361328125, 5.52685546875, 5.483154296875, 5.54443359375, 5.49041748046875, 5.5069580078125, 5.542022705078125, 5.510101318359375, 5.502494812011719, 5.499614715576172, 5.4984893798828125, 5.499314308166504]\n",
            "Q4: [34, 37, 51, 49, 45, 53, 62, 58, 67, 59, 80, 77]\n",
            "Q3: [5.361328125, 5.52685546875, 5.483154296875, 5.54443359375, 5.49041748046875, 5.5069580078125, 5.542022705078125, 5.510101318359375, 5.502494812011719, 5.499614715576172, 5.4984893798828125, 5.499314308166504, 5.504437208175659]\n",
            "Q4: [34, 37, 51, 49, 45, 53, 62, 58, 67, 59, 80, 77, 85]\n",
            "Q3: [5.361328125, 5.52685546875, 5.483154296875, 5.54443359375, 5.49041748046875, 5.5069580078125, 5.542022705078125, 5.510101318359375, 5.502494812011719, 5.499614715576172, 5.4984893798828125, 5.499314308166504, 5.504437208175659, 5.499379873275757]\n",
            "Q4: [34, 37, 51, 49, 45, 53, 62, 58, 67, 59, 80, 77, 85, 74]\n",
            "Q3: [5.361328125, 5.52685546875, 5.483154296875, 5.54443359375, 5.49041748046875, 5.5069580078125, 5.542022705078125, 5.510101318359375, 5.502494812011719, 5.499614715576172, 5.4984893798828125, 5.499314308166504, 5.504437208175659, 5.499379873275757, 5.498207211494446]\n",
            "Q4: [34, 37, 51, 49, 45, 53, 62, 58, 67, 59, 80, 77, 85, 74, 84]\n"
          ]
        }
      ]
    },
    {
      "cell_type": "markdown",
      "metadata": {
        "id": "xaax5nRkhBuT"
      },
      "source": [
        "##3. Result"
      ]
    },
    {
      "cell_type": "code",
      "metadata": {
        "id": "Fv0wSLb0hCHo"
      },
      "source": [
        "skip_num_copies=[2.044921875, 1.98828125, 1.97265625, 2.01806640625, 1.99371337890625, 2.002471923828125, 1.991455078125, 2.00177001953125, 1.9997901916503906, 2.0000839233398438, 1.9997472763061523, 1.9996047019958496, 1.9991464614868164, 2.000252366065979, 1.9994829297065735]\n",
        "skip_pntone_num_copies=[1.09765625, 1.10107421875, 1.099853515625, 1.0987548828125, 1.09783935546875, 1.09844970703125, 1.1003875732421875, 1.1008834838867188, 1.1006088256835938, 1.1004581451416016, 1.0995550155639648, 1.0998611450195312, 1.0999431610107422, 1.1001684665679932, 1.0999978184700012]\n",
        "skip_pntnine_num_copies=[5.361328125, 5.52685546875, 5.483154296875, 5.54443359375, 5.49041748046875, 5.5069580078125, 5.542022705078125, 5.510101318359375, 5.502494812011719, 5.499614715576172, 5.4984893798828125, 5.499314308166504, 5.504437208175659, 5.499379873275757, 5.498207211494446]\n",
        "\n"
      ],
      "execution_count": null,
      "outputs": []
    },
    {
      "cell_type": "code",
      "metadata": {
        "colab": {
          "base_uri": "https://localhost:8080/",
          "height": 312
        },
        "id": "Oe81Bv4VW9Y1",
        "outputId": "65c53a78-a8b7-4284-c392-c2f9e749cb64"
      },
      "source": [
        "copies_df = pd.DataFrame({\n",
        "    'p=0.5':skip_num_copies,\n",
        "    'p=0.1':skip_pntone_num_copies,\n",
        "    'p=0.9':skip_pntnine_num_copies\n",
        "})\n",
        "copies_df.index = np.arange(10, len(copies_df)+10)\n",
        "copies_df.plot(xlabel='2^k', ylabel='Count', title='Additional Copies')"
      ],
      "execution_count": null,
      "outputs": [
        {
          "output_type": "execute_result",
          "data": {
            "text/plain": [
              "<matplotlib.axes._subplots.AxesSubplot at 0x7f556a1c0dd0>"
            ]
          },
          "metadata": {},
          "execution_count": 47
        },
        {
          "output_type": "display_data",
          "data": {
            "image/png": "[encoded data removed]",
            "text/plain": [
              "<Figure size 432x288 with 1 Axes>"
            ]
          },
          "metadata": {
            "needs_background": "light"
          }
        }
      ]
    },
    {
      "cell_type": "code",
      "metadata": {
        "id": "5qqja6-ZaH7b"
      },
      "source": [
        "copies_df.to_csv(\"result_3.dat\",sep=\"|\")"
      ],
      "execution_count": null,
      "outputs": []
    },
    {
      "cell_type": "markdown",
      "metadata": {
        "id": "b1KNXOdTesdV"
      },
      "source": [
        "#4. 三種skip list在不同的n值時的list個數"
      ]
    },
    {
      "cell_type": "code",
      "metadata": {
        "id": "osxAxHqjeyBs"
      },
      "source": [
        "skip_max_height = [12, 15, 16, 20, 16, 17, 16, 18, 19, 22, 21, 20, 21, 23, 25]\n",
        "skip_pntone_max_height = [4, 4, 3, 6, 4, 5, 7, 6, 7, 6, 8, 7, 7, 8, 7]\n",
        "skip_pntnine_max_height = [34, 37, 51, 49, 45, 53, 62, 58, 67, 59, 80, 77, 85, 74, 84]\n"
      ],
      "execution_count": null,
      "outputs": []
    },
    {
      "cell_type": "code",
      "metadata": {
        "colab": {
          "base_uri": "https://localhost:8080/",
          "height": 312
        },
        "id": "sX-ts-_ZA4Hj",
        "outputId": "aafa2ec0-7547-4d85-f6a4-ca42964ff97a"
      },
      "source": [
        "height_df = pd.DataFrame({\n",
        "    'p=0.5':skip_max_height,\n",
        "    'p=0.1':skip_pntone_max_height,\n",
        "    'p=0.9':skip_pntnine_max_height\n",
        "})\n",
        "height_df.index = np.arange(10, len(height_df)+10)\n",
        "height_df.plot(xlabel='2^k', ylabel='Count', title='Height')"
      ],
      "execution_count": null,
      "outputs": [
        {
          "output_type": "execute_result",
          "data": {
            "text/plain": [
              "<matplotlib.axes._subplots.AxesSubplot at 0x7f556a140ed0>"
            ]
          },
          "metadata": {},
          "execution_count": 48
        },
        {
          "output_type": "display_data",
          "data": {
            "image/png": "[encoded data removed]",
            "text/plain": [
              "<Figure size 432x288 with 1 Axes>"
            ]
          },
          "metadata": {
            "needs_background": "light"
          }
        }
      ]
    },
    {
      "cell_type": "code",
      "metadata": {
        "id": "9g8WPQ_sA4gR"
      },
      "source": [
        "height_df.to_csv(\"result_4.dat\",sep=\"|\")"
      ],
      "execution_count": null,
      "outputs": []
    },
    {
      "cell_type": "code",
      "metadata": {
        "id": "w-CtprxVaNOq"
      },
      "source": [
        ""
      ],
      "execution_count": null,
      "outputs": []
    }
  ]
}